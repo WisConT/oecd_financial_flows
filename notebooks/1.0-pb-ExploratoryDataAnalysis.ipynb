{
 "cells": [
  {
   "cell_type": "markdown",
   "metadata": {},
   "source": [
    "# Exploratory Data Analysis"
   ]
  },
  {
   "cell_type": "code",
   "execution_count": 2,
   "metadata": {},
   "outputs": [],
   "source": [
    "import numpy as np\n",
    "import pandas as pd"
   ]
  },
  {
   "cell_type": "code",
   "execution_count": 18,
   "metadata": {},
   "outputs": [],
   "source": [
    "from pandas_profiling import ProfileReport"
   ]
  },
  {
   "cell_type": "code",
   "execution_count": null,
   "metadata": {},
   "outputs": [],
   "source": []
  },
  {
   "cell_type": "markdown",
   "metadata": {},
   "source": [
    "# Load the latest dataset"
   ]
  },
  {
   "cell_type": "code",
   "execution_count": 14,
   "metadata": {},
   "outputs": [
    {
     "name": "stderr",
     "output_type": "stream",
     "text": [
      "/Users/pedrobaiz/src/hsbc_flow/venv_hsbc/lib/python3.7/site-packages/IPython/core/interactiveshell.py:3063: DtypeWarning: Columns (0,5,51,53,56,57,77,79,80) have mixed types.Specify dtype option on import or set low_memory=False.\n",
      "  interactivity=interactivity, compiler=compiler, result=result)\n"
     ]
    }
   ],
   "source": [
    "df = pd.read_csv('CRS2018data.txt', sep='|', encoding='ISO-8859-1')"
   ]
  },
  {
   "cell_type": "code",
   "execution_count": 8,
   "metadata": {},
   "outputs": [
    {
     "data": {
      "text/html": [
       "<div>\n",
       "<style scoped>\n",
       "    .dataframe tbody tr th:only-of-type {\n",
       "        vertical-align: middle;\n",
       "    }\n",
       "\n",
       "    .dataframe tbody tr th {\n",
       "        vertical-align: top;\n",
       "    }\n",
       "\n",
       "    .dataframe thead th {\n",
       "        text-align: right;\n",
       "    }\n",
       "</style>\n",
       "<table border=\"1\" class=\"dataframe\">\n",
       "  <thead>\n",
       "    <tr style=\"text-align: right;\">\n",
       "      <th></th>\n",
       "      <th>Year</th>\n",
       "      <th>DonorCode</th>\n",
       "      <th>DonorName</th>\n",
       "      <th>AgencyCode</th>\n",
       "      <th>AgencyName</th>\n",
       "      <th>CrsID</th>\n",
       "      <th>ProjectNumber</th>\n",
       "      <th>InitialReport</th>\n",
       "      <th>RecipientCode</th>\n",
       "      <th>RecipientName</th>\n",
       "      <th>...</th>\n",
       "      <th>Interest1</th>\n",
       "      <th>Interest2</th>\n",
       "      <th>Repaydate1</th>\n",
       "      <th>Repaydate2</th>\n",
       "      <th>USD_Interest</th>\n",
       "      <th>USD_Outstanding</th>\n",
       "      <th>USD_Arrears_Principal</th>\n",
       "      <th>USD_Arrears_Interest</th>\n",
       "      <th>BudgetIdent</th>\n",
       "      <th>CapitalExpend</th>\n",
       "    </tr>\n",
       "  </thead>\n",
       "  <tbody>\n",
       "    <tr>\n",
       "      <th>0</th>\n",
       "      <td>2018</td>\n",
       "      <td>3.0</td>\n",
       "      <td>Denmark</td>\n",
       "      <td>3.0</td>\n",
       "      <td>Investment Fund For Developing Countries</td>\n",
       "      <td>NaN</td>\n",
       "      <td>NaN</td>\n",
       "      <td>NaN</td>\n",
       "      <td>645.0</td>\n",
       "      <td>India</td>\n",
       "      <td>...</td>\n",
       "      <td>NaN</td>\n",
       "      <td>NaN</td>\n",
       "      <td>NaN</td>\n",
       "      <td>NaN</td>\n",
       "      <td>0.197405</td>\n",
       "      <td>NaN</td>\n",
       "      <td>NaN</td>\n",
       "      <td>NaN</td>\n",
       "      <td>NaN</td>\n",
       "      <td>NaN</td>\n",
       "    </tr>\n",
       "    <tr>\n",
       "      <th>1</th>\n",
       "      <td>2018</td>\n",
       "      <td>3.0</td>\n",
       "      <td>Denmark</td>\n",
       "      <td>3.0</td>\n",
       "      <td>Investment Fund For Developing Countries</td>\n",
       "      <td>NaN</td>\n",
       "      <td>NaN</td>\n",
       "      <td>NaN</td>\n",
       "      <td>730.0</td>\n",
       "      <td>China (People's Republic of)</td>\n",
       "      <td>...</td>\n",
       "      <td>NaN</td>\n",
       "      <td>NaN</td>\n",
       "      <td>NaN</td>\n",
       "      <td>NaN</td>\n",
       "      <td>0.080917</td>\n",
       "      <td>NaN</td>\n",
       "      <td>NaN</td>\n",
       "      <td>NaN</td>\n",
       "      <td>NaN</td>\n",
       "      <td>NaN</td>\n",
       "    </tr>\n",
       "    <tr>\n",
       "      <th>2</th>\n",
       "      <td>2018</td>\n",
       "      <td>3.0</td>\n",
       "      <td>Denmark</td>\n",
       "      <td>3.0</td>\n",
       "      <td>Investment Fund For Developing Countries</td>\n",
       "      <td>NaN</td>\n",
       "      <td>NaN</td>\n",
       "      <td>NaN</td>\n",
       "      <td>85.0</td>\n",
       "      <td>Ukraine</td>\n",
       "      <td>...</td>\n",
       "      <td>NaN</td>\n",
       "      <td>NaN</td>\n",
       "      <td>NaN</td>\n",
       "      <td>NaN</td>\n",
       "      <td>0.176108</td>\n",
       "      <td>NaN</td>\n",
       "      <td>NaN</td>\n",
       "      <td>NaN</td>\n",
       "      <td>NaN</td>\n",
       "      <td>NaN</td>\n",
       "    </tr>\n",
       "    <tr>\n",
       "      <th>3</th>\n",
       "      <td>2018</td>\n",
       "      <td>3.0</td>\n",
       "      <td>Denmark</td>\n",
       "      <td>3.0</td>\n",
       "      <td>Investment Fund For Developing Countries</td>\n",
       "      <td>NaN</td>\n",
       "      <td>NaN</td>\n",
       "      <td>NaN</td>\n",
       "      <td>142.0</td>\n",
       "      <td>Egypt</td>\n",
       "      <td>...</td>\n",
       "      <td>NaN</td>\n",
       "      <td>NaN</td>\n",
       "      <td>NaN</td>\n",
       "      <td>NaN</td>\n",
       "      <td>0.463887</td>\n",
       "      <td>NaN</td>\n",
       "      <td>NaN</td>\n",
       "      <td>NaN</td>\n",
       "      <td>NaN</td>\n",
       "      <td>NaN</td>\n",
       "    </tr>\n",
       "    <tr>\n",
       "      <th>4</th>\n",
       "      <td>2018</td>\n",
       "      <td>3.0</td>\n",
       "      <td>Denmark</td>\n",
       "      <td>3.0</td>\n",
       "      <td>Investment Fund For Developing Countries</td>\n",
       "      <td>NaN</td>\n",
       "      <td>NaN</td>\n",
       "      <td>NaN</td>\n",
       "      <td>645.0</td>\n",
       "      <td>India</td>\n",
       "      <td>...</td>\n",
       "      <td>NaN</td>\n",
       "      <td>NaN</td>\n",
       "      <td>NaN</td>\n",
       "      <td>NaN</td>\n",
       "      <td>0.142317</td>\n",
       "      <td>NaN</td>\n",
       "      <td>NaN</td>\n",
       "      <td>NaN</td>\n",
       "      <td>NaN</td>\n",
       "      <td>NaN</td>\n",
       "    </tr>\n",
       "  </tbody>\n",
       "</table>\n",
       "<p>5 rows × 87 columns</p>\n",
       "</div>"
      ],
      "text/plain": [
       "   Year  DonorCode DonorName  AgencyCode  \\\n",
       "0  2018        3.0   Denmark         3.0   \n",
       "1  2018        3.0   Denmark         3.0   \n",
       "2  2018        3.0   Denmark         3.0   \n",
       "3  2018        3.0   Denmark         3.0   \n",
       "4  2018        3.0   Denmark         3.0   \n",
       "\n",
       "                                 AgencyName CrsID ProjectNumber  \\\n",
       "0  Investment Fund For Developing Countries   NaN           NaN   \n",
       "1  Investment Fund For Developing Countries   NaN           NaN   \n",
       "2  Investment Fund For Developing Countries   NaN           NaN   \n",
       "3  Investment Fund For Developing Countries   NaN           NaN   \n",
       "4  Investment Fund For Developing Countries   NaN           NaN   \n",
       "\n",
       "   InitialReport  RecipientCode                 RecipientName  ...  Interest1  \\\n",
       "0            NaN          645.0                         India  ...        NaN   \n",
       "1            NaN          730.0  China (People's Republic of)  ...        NaN   \n",
       "2            NaN           85.0                       Ukraine  ...        NaN   \n",
       "3            NaN          142.0                         Egypt  ...        NaN   \n",
       "4            NaN          645.0                         India  ...        NaN   \n",
       "\n",
       "  Interest2  Repaydate1 Repaydate2  USD_Interest USD_Outstanding  \\\n",
       "0       NaN         NaN        NaN      0.197405             NaN   \n",
       "1       NaN         NaN        NaN      0.080917             NaN   \n",
       "2       NaN         NaN        NaN      0.176108             NaN   \n",
       "3       NaN         NaN        NaN      0.463887             NaN   \n",
       "4       NaN         NaN        NaN      0.142317             NaN   \n",
       "\n",
       "   USD_Arrears_Principal  USD_Arrears_Interest  BudgetIdent CapitalExpend  \n",
       "0                    NaN                   NaN          NaN           NaN  \n",
       "1                    NaN                   NaN          NaN           NaN  \n",
       "2                    NaN                   NaN          NaN           NaN  \n",
       "3                    NaN                   NaN          NaN           NaN  \n",
       "4                    NaN                   NaN          NaN           NaN  \n",
       "\n",
       "[5 rows x 87 columns]"
      ]
     },
     "execution_count": 8,
     "metadata": {},
     "output_type": "execute_result"
    }
   ],
   "source": [
    "df.head()"
   ]
  },
  {
   "cell_type": "code",
   "execution_count": 10,
   "metadata": {},
   "outputs": [
    {
     "data": {
      "text/plain": [
       "Index(['Year', 'DonorCode', 'DonorName', 'AgencyCode', 'AgencyName', 'CrsID',\n",
       "       'ProjectNumber', 'InitialReport', 'RecipientCode', 'RecipientName',\n",
       "       'RegionCode', 'RegionName', 'IncomegroupCode', 'IncomegroupName',\n",
       "       'FlowCode', 'FlowName', 'Bi_Multi', 'Category', 'Finance_t', 'Aid_t',\n",
       "       'USD_Commitment', 'USD_Disbursement', 'USD_Received',\n",
       "       'USD_Commitment_Defl', 'USD_Disbursement_Defl', 'USD_Received_Defl',\n",
       "       'USD_Adjustment', 'USD_Adjustment_Defl', 'USD_AmountUntied',\n",
       "       'USD_AmountPartialTied', 'USD_AmountTied', 'USD_AmountUntied_Defl',\n",
       "       'USD_AmountPartialTied_Defl', 'USD_Amounttied_Defl', 'USD_IRTC',\n",
       "       'USD_Expert_Commitment', 'USD_Expert_Extended', 'USD_Export_Credit',\n",
       "       'CurrencyCode', 'Commitment_National', 'Disbursement_National',\n",
       "       'GrantEquiv', 'USD_GrantEquiv', 'ShortDescription', 'ProjectTitle',\n",
       "       'PurposeCode', 'PurposeName', 'SectorCode', 'SectorName', 'ChannelCode',\n",
       "       'ChannelName', 'ChannelReportedName', 'ParentChannelCode', 'Geography',\n",
       "       'ExpectedStartDate', 'CompletionDate', 'LongDescription', 'SDGfocus',\n",
       "       'Gender', 'Environment', 'PDGG', 'Trade', 'RMNCH', 'DRR', 'Nutrition',\n",
       "       'Disability', 'FTC', 'PBA', 'InvestmentProject', 'AssocFinance',\n",
       "       'Biodiversity', 'ClimateMitigation', 'ClimateAdaptation',\n",
       "       'Desertification', 'CommitmentDate', 'TypeRepayment', 'NumberRepayment',\n",
       "       'Interest1', 'Interest2', 'Repaydate1', 'Repaydate2', 'USD_Interest',\n",
       "       'USD_Outstanding', 'USD_Arrears_Principal', 'USD_Arrears_Interest',\n",
       "       'BudgetIdent', 'CapitalExpend'],\n",
       "      dtype='object')"
      ]
     },
     "execution_count": 10,
     "metadata": {},
     "output_type": "execute_result"
    }
   ],
   "source": [
    "df.columns"
   ]
  },
  {
   "cell_type": "code",
   "execution_count": 11,
   "metadata": {},
   "outputs": [
    {
     "data": {
      "text/plain": [
       "0                                           Semi-aggregates\n",
       "1                                           Semi-aggregates\n",
       "2                                           Semi-aggregates\n",
       "3                                           Semi-aggregates\n",
       "4                                           Semi-aggregates\n",
       "                                ...                        \n",
       "287360    OCHA is responsible for bringing together huma...\n",
       "287361    OCHA is responsible for bringing together huma...\n",
       "287362    The textiles and construction sectors in Bangl...\n",
       "287363    The textiles and construction sectors in Bangl...\n",
       "287364                                                  NaN\n",
       "Name: LongDescription, Length: 287365, dtype: object"
      ]
     },
     "execution_count": 11,
     "metadata": {},
     "output_type": "execute_result"
    }
   ],
   "source": [
    "df['LongDescription']"
   ]
  },
  {
   "cell_type": "code",
   "execution_count": 12,
   "metadata": {},
   "outputs": [
    {
     "data": {
      "text/plain": [
       "'OCHA is responsible for bringing together humanitarian actors to ensure coherent response to emergencies and to facilitate the work of operational humanitarian agencies in the field. SDC aims to support OCHA in delivering its core functions in humanitarian coordination, advocacy and policy development. Therefore, SDC seeks to provide support to OCHA field offices in relevant humanitarian contexts, in line with SDC geographic and thematic priorities.'"
      ]
     },
     "execution_count": 12,
     "metadata": {},
     "output_type": "execute_result"
    }
   ],
   "source": [
    "df['LongDescription'][287360]"
   ]
  },
  {
   "cell_type": "code",
   "execution_count": 9,
   "metadata": {},
   "outputs": [
    {
     "data": {
      "text/plain": [
       "287365"
      ]
     },
     "execution_count": 9,
     "metadata": {},
     "output_type": "execute_result"
    }
   ],
   "source": [
    "len(df)"
   ]
  },
  {
   "cell_type": "code",
   "execution_count": null,
   "metadata": {},
   "outputs": [],
   "source": []
  },
  {
   "cell_type": "markdown",
   "metadata": {},
   "source": [
    "# Pandas Profiling"
   ]
  },
  {
   "cell_type": "code",
   "execution_count": 19,
   "metadata": {},
   "outputs": [
    {
     "data": {
      "application/vnd.jupyter.widget-view+json": {
       "model_id": "8e1ba248505743bdbc3d69c5c3272b43",
       "version_major": 2,
       "version_minor": 0
      },
      "text/plain": [
       "HBox(children=(FloatProgress(value=0.0, description='variables', max=87.0, style=ProgressStyle(description_wid…"
      ]
     },
     "metadata": {},
     "output_type": "display_data"
    },
    {
     "name": "stdout",
     "output_type": "stream",
     "text": [
      "\n"
     ]
    },
    {
     "data": {
      "application/vnd.jupyter.widget-view+json": {
       "model_id": "c315e8204c474ea1907aed608ffa11b1",
       "version_major": 2,
       "version_minor": 0
      },
      "text/plain": [
       "HBox(children=(FloatProgress(value=0.0, description='correlations', max=6.0, style=ProgressStyle(description_w…"
      ]
     },
     "metadata": {},
     "output_type": "display_data"
    },
    {
     "name": "stdout",
     "output_type": "stream",
     "text": [
      "\n"
     ]
    },
    {
     "data": {
      "application/vnd.jupyter.widget-view+json": {
       "model_id": "63859d8ee53e4a5488b180f3288365f8",
       "version_major": 2,
       "version_minor": 0
      },
      "text/plain": [
       "HBox(children=(FloatProgress(value=0.0, description='interactions [continuous]', max=2025.0, style=ProgressSty…"
      ]
     },
     "metadata": {},
     "output_type": "display_data"
    },
    {
     "name": "stdout",
     "output_type": "stream",
     "text": [
      "\n"
     ]
    },
    {
     "data": {
      "application/vnd.jupyter.widget-view+json": {
       "model_id": "06e6bebffeb44d398b449d75b0e25f7d",
       "version_major": 2,
       "version_minor": 0
      },
      "text/plain": [
       "HBox(children=(FloatProgress(value=0.0, description='table', max=1.0, style=ProgressStyle(description_width='i…"
      ]
     },
     "metadata": {},
     "output_type": "display_data"
    },
    {
     "name": "stdout",
     "output_type": "stream",
     "text": [
      "\n"
     ]
    },
    {
     "data": {
      "application/vnd.jupyter.widget-view+json": {
       "model_id": "fe0d150304944ed98c7d54d1e2cd90c3",
       "version_major": 2,
       "version_minor": 0
      },
      "text/plain": [
       "HBox(children=(FloatProgress(value=0.0, description='missing', max=4.0, style=ProgressStyle(description_width=…"
      ]
     },
     "metadata": {},
     "output_type": "display_data"
    },
    {
     "name": "stdout",
     "output_type": "stream",
     "text": [
      "\n"
     ]
    },
    {
     "data": {
      "application/vnd.jupyter.widget-view+json": {
       "model_id": "a594bd875e3e410d831d3ffa93623dc1",
       "version_major": 2,
       "version_minor": 0
      },
      "text/plain": [
       "HBox(children=(FloatProgress(value=0.0, description='warnings', max=3.0, style=ProgressStyle(description_width…"
      ]
     },
     "metadata": {},
     "output_type": "display_data"
    },
    {
     "name": "stdout",
     "output_type": "stream",
     "text": [
      "\n"
     ]
    },
    {
     "data": {
      "application/vnd.jupyter.widget-view+json": {
       "model_id": "93c287cab8774c958ebc5e72935b9594",
       "version_major": 2,
       "version_minor": 0
      },
      "text/plain": [
       "HBox(children=(FloatProgress(value=0.0, description='package', max=1.0, style=ProgressStyle(description_width=…"
      ]
     },
     "metadata": {},
     "output_type": "display_data"
    },
    {
     "name": "stdout",
     "output_type": "stream",
     "text": [
      "\n"
     ]
    },
    {
     "data": {
      "application/vnd.jupyter.widget-view+json": {
       "model_id": "2126e19ab4a34582b0c14de04dda99e8",
       "version_major": 2,
       "version_minor": 0
      },
      "text/plain": [
       "HBox(children=(FloatProgress(value=0.0, description='build report structure', max=1.0, style=ProgressStyle(des…"
      ]
     },
     "metadata": {},
     "output_type": "display_data"
    },
    {
     "name": "stdout",
     "output_type": "stream",
     "text": [
      "\n"
     ]
    }
   ],
   "source": [
    "profile = ProfileReport(df, title='Pandas Profiling Report', html={'style':{'full_width':True}})"
   ]
  },
  {
   "cell_type": "code",
   "execution_count": null,
   "metadata": {},
   "outputs": [],
   "source": []
  },
  {
   "cell_type": "code",
   "execution_count": 20,
   "metadata": {},
   "outputs": [
    {
     "data": {
      "application/vnd.jupyter.widget-view+json": {
       "model_id": "14adf5dee3b64accb21c22b6d6dd51d6",
       "version_major": 2,
       "version_minor": 0
      },
      "text/plain": [
       "Tab(children=(Tab(children=(GridBox(children=(VBox(children=(GridspecLayout(children=(HTML(value='Number of va…"
      ]
     },
     "metadata": {},
     "output_type": "display_data"
    },
    {
     "data": {
      "text/html": [
       "Report generated with <a href=\"https://github.com/pandas-profiling/pandas-profiling\">pandas-profiling</a>."
      ],
      "text/plain": [
       "<IPython.core.display.HTML object>"
      ]
     },
     "metadata": {},
     "output_type": "display_data"
    }
   ],
   "source": [
    "profile.to_widgets()"
   ]
  },
  {
   "cell_type": "markdown",
   "metadata": {},
   "source": [
    "# Saving the Profile"
   ]
  },
  {
   "cell_type": "code",
   "execution_count": 22,
   "metadata": {},
   "outputs": [],
   "source": [
    "profile.to_file(output_file=\"CRS2018Profile.html\")"
   ]
  },
  {
   "cell_type": "code",
   "execution_count": null,
   "metadata": {},
   "outputs": [],
   "source": []
  },
  {
   "cell_type": "code",
   "execution_count": null,
   "metadata": {},
   "outputs": [],
   "source": []
  }
 ],
 "metadata": {
  "kernelspec": {
   "display_name": "venv_hsbc",
   "language": "python",
   "name": "venv_hsbc"
  },
  "language_info": {
   "codemirror_mode": {
    "name": "ipython",
    "version": 3
   },
   "file_extension": ".py",
   "mimetype": "text/x-python",
   "name": "python",
   "nbconvert_exporter": "python",
   "pygments_lexer": "ipython3",
   "version": "3.7.3"
  }
 },
 "nbformat": 4,
 "nbformat_minor": 2
}

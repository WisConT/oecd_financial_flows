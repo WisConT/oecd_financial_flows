{
 "cells": [
  {
   "cell_type": "markdown",
   "metadata": {
    "colab_type": "text",
    "id": "WFsWgat3MGCd"
   },
   "source": [
    "# spaCy Transformers Demo"
   ]
  },
  {
   "cell_type": "markdown",
   "metadata": {
    "colab_type": "text",
    "id": "NKvZ1y3d3Ak8"
   },
   "source": [
    "[![Open In Colab](https://colab.research.google.com/assets/colab-badge.svg)](https://colab.research.google.com/drive/1lG3ReZc9ESyVPsstjuu5ek73u6vVsi3X)\n"
   ]
  },
  {
   "cell_type": "markdown",
   "metadata": {
    "colab_type": "text",
    "id": "zJqDMGd8MROv"
   },
   "source": [
    "![alt text](https://d33wubrfki0l68.cloudfront.net/d04566d0f6671ae94fdae6fa3f767f5a6553d335/c50f0/blog/img/spacy-pytorch-transformers.jpg)"
   ]
  },
  {
   "cell_type": "markdown",
   "metadata": {
    "colab_type": "text",
    "id": "jzJ2Uy6TTt58"
   },
   "source": [
    "# Set-Up"
   ]
  },
  {
   "cell_type": "markdown",
   "metadata": {
    "colab_type": "text",
    "id": "1BhrT_sQMiH0"
   },
   "source": [
    "Setting up the environment in Colab to run various experiments, note the cuda version of spacy-transformers is being downloaded"
   ]
  },
  {
   "cell_type": "code",
   "execution_count": 1,
   "metadata": {
    "colab": {
     "base_uri": "https://localhost:8080/",
     "height": 1000
    },
    "colab_type": "code",
    "id": "SHnQiSqRZFLg",
    "outputId": "e656e375-1535-4e2a-de45-ab020328284d"
   },
   "outputs": [],
   "source": [
    "#!pip install gputil\n",
    "#!pip install torch==1.1.0\n",
    "#!pip install spacy-transformers[cuda100]==0.5.1\n",
    "#!python -m spacy download en_trf_xlnetbasecased_lg\n",
    "#!python -m spacy download en_trf_bertbaseuncased_lg"
   ]
  },
  {
   "cell_type": "markdown",
   "metadata": {
    "colab_type": "text",
    "id": "1j0oHvNgMwms"
   },
   "source": [
    "You will need to **restart runtime after these installs** to reinstatiate the environment/directory"
   ]
  },
  {
   "cell_type": "code",
   "execution_count": 2,
   "metadata": {
    "colab": {},
    "colab_type": "code",
    "id": "Qt50zr1JOe5N"
   },
   "outputs": [],
   "source": [
    "import spacy\n",
    "#import GPUtil\n",
    "import torch\n",
    "import numpy\n",
    "from numpy.testing import assert_almost_equal\n",
    "from scipy.spatial import distance\n",
    "#import cupy\n",
    "import numpy as np"
   ]
  },
  {
   "cell_type": "markdown",
   "metadata": {
    "colab_type": "text",
    "id": "4dh86HU_Op-_"
   },
   "source": [
    "Checks whether GPU is available, switches to cuda if it is"
   ]
  },
  {
   "cell_type": "code",
   "execution_count": 3,
   "metadata": {
    "colab": {
     "base_uri": "https://localhost:8080/",
     "height": 102
    },
    "colab_type": "code",
    "id": "0MfBlpUiKVKt",
    "outputId": "63b031af-42db-4a40-e819-30d4f189706d"
   },
   "outputs": [],
   "source": [
    "is_using_gpu = spacy.prefer_gpu()\n",
    "if is_using_gpu:\n",
    "    print(\"Using GPU!\")\n",
    "    torch.set_default_tensor_type(\"torch.cuda.FloatTensor\")\n",
    "    print(\"GPU Usage\")\n",
    "    GPUtil.showUtilization()"
   ]
  },
  {
   "cell_type": "markdown",
   "metadata": {
    "colab_type": "text",
    "id": "kUzXv4DfTyml"
   },
   "source": [
    "# XL-Net & BERT Models Explained"
   ]
  },
  {
   "cell_type": "markdown",
   "metadata": {
    "colab_type": "text",
    "id": "uoy7qKqvTsgC"
   },
   "source": [
    "2018 was a breakthrough year for NLP with the release of BERT , most of them centered around language modeling.  In case you’re not familiar, language modeling is a fancy word for the task of predicting the next word in a sentence given all previous words. This seemingly simple task has a surprising amount of depth and the true potential of language modeling started to be unlocked by methods using it as a pretraining method.\n",
    "\n",
    "The forerunners in this trend were ULMFiT and ELMo, both of which used LSTM-based language models. The basic idea of these methods was to train a language model on massive amounts of unlabeled data and then use the internal representations of the language model on subsequent tasks with smaller datasets such as question answering and text classification. This was a form of transfer learning, where a larger dataset was used to bootstrap a model that could then perform better on other tasks. The reason this worked so well was that language models captured general aspects of the input text that were almost universally useful. Indeed, both ULMFiT and ELMo were a massive success, producing state-of-the-art results on numerous tasks."
   ]
  },
  {
   "cell_type": "markdown",
   "metadata": {
    "colab_type": "text",
    "id": "zObcNBdbUq4j"
   },
   "source": [
    "## BERT"
   ]
  },
  {
   "cell_type": "markdown",
   "metadata": {
    "colab_type": "text",
    "id": "hvLRBxqzUpN6"
   },
   "source": [
    "BERT stands for “Bidirectional Encoder Representations from Transformers”. It is a neural network architecture that can model bidirectional contexts in text data using Transformer.\n",
    "\n",
    "Traditional language models are trained in a left-to-right fashion to predict the next word given a sequence of words. This has the limitation of not requiring the model to model bidirectional context. What does “bidirectional context” mean? For some words, their meaning might only become apparent when you look at both the left and right context simultaneously. The simultaneous part is important: models like ELMo train two separate models that each take the left and right context into account but do not train a model that uses both at the same time.\n",
    "\n",
    "BERT solves this problem by introducing a new task in the form of masked language modeling. The idea is simple: instead of predicting the next token in a sequence, BERT replaces random words in the input sentence with the special [MASK] token and attempts to predict what the original token was. In addition to this, BERT used the powerful Transformer architecture to incorporate information from the entire input sentence.\n",
    "\n",
    "Equipped with these two approaches, BERT achieved state-of-the-art performance across numerous tasks. "
   ]
  },
  {
   "cell_type": "code",
   "execution_count": 4,
   "metadata": {
    "cellView": "form",
    "colab": {},
    "colab_type": "code",
    "id": "NTlnu4aVQiTi"
   },
   "outputs": [],
   "source": [
    "model_choice = \"en_trf_bertbaseuncased_lg\" #@param [\"en_trf_bertbaseuncased_lg\", \"en_trf_xlnetbasecased_lg\"]"
   ]
  },
  {
   "cell_type": "markdown",
   "metadata": {
    "colab_type": "text",
    "id": "Qq54PBavWdF0"
   },
   "source": [
    "One important detail is that BERT uses wordpieces (e.g. playing -> play + ##ing)instead of words. This is effective in reducing the size of the vocabulary and increases the amount of data that is available for each word."
   ]
  },
  {
   "cell_type": "code",
   "execution_count": 5,
   "metadata": {
    "colab": {
     "base_uri": "https://localhost:8080/",
     "height": 34
    },
    "colab_type": "code",
    "id": "CCaAD1k7KiIi",
    "outputId": "883b422d-ac8b-43bd-e330-2770be93840b"
   },
   "outputs": [
    {
     "name": "stdout",
     "output_type": "stream",
     "text": [
      "['[CLS]', 'here', 'is', 'some', 'text', 'to', 'en', '##code', '.', '[SEP]']\n"
     ]
    }
   ],
   "source": [
    "nlp = spacy.load(model_choice)\n",
    "doc = nlp(\"Here is some text to encode.\")\n",
    "assert doc.tensor.shape == (7, 768)  # Always has one row per token\n",
    "print(doc._.trf_word_pieces_)  # String values of the wordpieces\n",
    "# The raw transformer output has one row per wordpiece."
   ]
  },
  {
   "cell_type": "markdown",
   "metadata": {
    "colab_type": "text",
    "id": "QFfXJFLSaMcd"
   },
   "source": [
    "Here we can see that for the 10 word piece parts there is an individual encoding of size 768. Spacy provides a convenient utility to align the wordpieces back to the original words.  \n",
    "As the word **encode** has been split into its component parts - if we wanted to extract it's token representation as a single word we would need to pool together the 6th and 7th vector representations. "
   ]
  },
  {
   "cell_type": "code",
   "execution_count": 6,
   "metadata": {
    "colab": {
     "base_uri": "https://localhost:8080/",
     "height": 51
    },
    "colab_type": "code",
    "id": "5A6p-Nn-aV5S",
    "outputId": "7fcf665f-b66b-4c36-bb81-1a2d9c337a8c"
   },
   "outputs": [
    {
     "name": "stdout",
     "output_type": "stream",
     "text": [
      "[101, 2182, 2003, 2070, 3793, 2000, 4372, 16044, 1012, 102]\n",
      "[[1], [2], [3], [4], [5], [6, 7], [8]]\n"
     ]
    }
   ],
   "source": [
    "print(doc._.trf_word_pieces)  # Wordpiece IDs (note: *not* spaCy's hash values!)\n",
    "print(doc._.trf_alignment)  # Alignment between spaCy tokens and wordpieces"
   ]
  },
  {
   "cell_type": "markdown",
   "metadata": {
    "colab_type": "text",
    "id": "3Ct-Sxk5XOiz"
   },
   "source": [
    "We don't see any masked tokens as those are used during the training batches for the model to learn word representations. As we're using pre-trained models these masks are not part of the outputs. The special [CLS] and [SEP] tokens are still output as part of the code"
   ]
  },
  {
   "cell_type": "markdown",
   "metadata": {
    "colab_type": "text",
    "id": "rHdtIYVXcAc5"
   },
   "source": [
    "BERT prepends a [CLS] token (short for “classification”) to the start of each sentence (this is essentially like a start-of-sentence token) and is used as an overall representation of the sentence in downstream tasks"
   ]
  },
  {
   "cell_type": "code",
   "execution_count": 7,
   "metadata": {
    "colab": {
     "base_uri": "https://localhost:8080/",
     "height": 34
    },
    "colab_type": "code",
    "id": "NFcmE1mQb-99",
    "outputId": "19a735a3-7a24-4a47-f9f6-6ee2f89005fc"
   },
   "outputs": [
    {
     "name": "stdout",
     "output_type": "stream",
     "text": [
      "The [CLS] token embedding can be retrieved by getting the first embedding from the output - it's the same size as the other embeddings: 768\n"
     ]
    }
   ],
   "source": [
    "print(f\"The {doc._.trf_word_pieces_[0]} token embedding can be retrieved by getting the first embedding from the output - it's the same size as the other embeddings: {len(doc._.trf_last_hidden_state[0])}\")"
   ]
  },
  {
   "cell_type": "markdown",
   "metadata": {
    "colab_type": "text",
    "id": "OmXWLjrHe3Vu"
   },
   "source": [
    "The last hidden state is the encoding value of the last hidden layer in the BERT architecture and can be retrieved using the *doc._.trf_last_hidden_state* method.  \n",
    "Running the method on our document gives us the embedding for each wordpiece token"
   ]
  },
  {
   "cell_type": "code",
   "execution_count": 8,
   "metadata": {
    "colab": {
     "base_uri": "https://localhost:8080/",
     "height": 34
    },
    "colab_type": "code",
    "id": "6_dXJgxCW-s2",
    "outputId": "cb46a251-6f5a-4e63-bb1a-597b0616940c"
   },
   "outputs": [
    {
     "name": "stdout",
     "output_type": "stream",
     "text": [
      "(10, 768)\n"
     ]
    }
   ],
   "source": [
    "print(doc._.trf_last_hidden_state.shape)\n",
    "assert len(doc._.trf_last_hidden_state) == len(doc._.trf_word_pieces)"
   ]
  },
  {
   "cell_type": "markdown",
   "metadata": {
    "colab_type": "text",
    "id": "KRQOGjDdfXnN"
   },
   "source": [
    "If we wanted to retrieve every hidden layer's output the *doc._.trf_all_hidden_states* accesses a tensor containing all layers of every token  \n",
    "** At time of writing this method doesn't yet work and is a known issue in the github **"
   ]
  },
  {
   "cell_type": "code",
   "execution_count": 9,
   "metadata": {
    "colab": {
     "base_uri": "https://localhost:8080/",
     "height": 34
    },
    "colab_type": "code",
    "id": "L7OaR5LUVhE3",
    "outputId": "ba5a03df-1cf5-425f-93e5-a9432d9a19ce"
   },
   "outputs": [
    {
     "name": "stdout",
     "output_type": "stream",
     "text": [
      "None\n"
     ]
    }
   ],
   "source": [
    "print(doc._.trf_all_hidden_states)"
   ]
  },
  {
   "cell_type": "markdown",
   "metadata": {
    "colab_type": "text",
    "id": "kmskHTjTav8_"
   },
   "source": [
    "While the [CLS] token is often used as a sentence representation in downstream tasks - it's also possible to sum the component embeddings for each word to get a sentence level vector"
   ]
  },
  {
   "cell_type": "code",
   "execution_count": 10,
   "metadata": {
    "colab": {
     "base_uri": "https://localhost:8080/",
     "height": 34
    },
    "colab_type": "code",
    "id": "pPlyGbJPZ3g6",
    "outputId": "5ac9ac10-287f-453e-92bf-3827334af3af"
   },
   "outputs": [
    {
     "name": "stdout",
     "output_type": "stream",
     "text": [
      "The sentence level representation retains the same embedding dimensions using a sum-pooled vector match : 768\n"
     ]
    }
   ],
   "source": [
    "print(f\"The sentence level representation retains the same embedding dimensions using a sum-pooled vector match : {len(doc.tensor.sum(axis=0))}\")"
   ]
  },
  {
   "cell_type": "code",
   "execution_count": 11,
   "metadata": {
    "colab": {
     "base_uri": "https://localhost:8080/",
     "height": 1000
    },
    "colab_type": "code",
    "id": "JivgE7RibkL_",
    "outputId": "7eebe2f9-31a1-4aaa-9641-1c9cb8f8e4a7"
   },
   "outputs": [
    {
     "data": {
      "text/plain": [
       "array([ 1.9207225e+00, -2.2792095e-01,  9.3010247e-02, -1.9303502e-01,\n",
       "       -8.3393037e-01, -5.1782284e+00,  1.6388576e+00,  5.2698836e+00,\n",
       "       -5.4950118e-03,  4.2340279e-01,  4.8447084e-01, -2.4854691e+00,\n",
       "       -1.9749240e+00,  1.4504011e+00, -4.5884113e+00,  1.3379259e+00,\n",
       "       -3.6306639e+00,  2.5257483e+00,  3.2330334e-02,  1.7336313e+00,\n",
       "       -9.0275252e-01, -2.4054682e-01, -5.8636880e+00,  1.3372457e+00,\n",
       "        8.0944729e+00, -2.8593826e+00, -3.2445679e+00, -1.9461263e+00,\n",
       "       -7.5677419e+00, -2.4196048e+00,  5.6417882e-01,  8.2466805e-01,\n",
       "       -3.0834165e+00, -1.9316554e-01, -1.1168468e+00, -1.1762922e+00,\n",
       "        1.4819348e+00, -9.1734189e-01, -9.9398047e-01,  2.3614202e+00,\n",
       "       -7.0913954e+00, -2.7178843e+00,  2.1950276e+00,  7.3105943e-01,\n",
       "        4.5478292e+00, -3.4893978e+00,  4.7584195e+00, -1.5926307e+00,\n",
       "       -1.6076177e-01,  6.7495507e-01, -5.9701586e+00,  3.2844374e+00,\n",
       "       -9.7776997e-01,  3.2972555e+00,  3.5144129e+00,  5.2314539e+00,\n",
       "       -3.4390551e-01, -6.9125204e+00, -3.1912704e+00,  5.0166792e-01,\n",
       "        2.5998170e+00,  3.1126580e+00, -3.6747489e+00, -5.6205945e+00,\n",
       "        3.3619978e+00, -1.0792727e+00,  7.9788327e-02,  9.1959584e-01,\n",
       "       -1.0888056e+01, -2.9337451e+00, -5.0147371e+00, -6.2811832e+00,\n",
       "       -1.6356399e+00, -2.6247585e+00, -1.4020185e+00,  3.9970436e+00,\n",
       "       -4.3928676e+00,  1.4605204e+00, -3.9715419e+00, -3.9395270e+00,\n",
       "       -1.8260584e+00,  5.5132499e+00, -1.7655001e+00,  3.0855169e+00,\n",
       "        3.6900268e+00, -1.8243670e+00, -5.7643743e+00, -1.7466494e+00,\n",
       "       -2.7275796e+00,  3.7767611e+00, -1.9000093e+00, -6.1193353e-01,\n",
       "       -8.0416906e-01,  1.2766488e+00,  4.7550812e+00, -1.2768335e+00,\n",
       "       -2.0883584e+00,  3.6554160e+00, -1.3759525e+00,  3.2965243e+00,\n",
       "        1.7745707e+00, -4.2281861e+00,  2.7113147e+00, -1.7421401e+00,\n",
       "       -2.5300734e+00, -4.7685838e-01, -1.7353590e+00,  2.8273785e+00,\n",
       "        4.3647280e+00,  1.6426651e+00,  3.6104624e+00, -4.5705719e+00,\n",
       "        4.9996683e-01, -3.6564553e-01, -5.1632018e+00,  1.1769781e+00,\n",
       "        1.3639598e+00, -8.0667764e-01,  9.4572949e-01, -3.5621090e+00,\n",
       "       -5.6972826e-01,  3.4075540e-01,  1.3155793e+00,  9.3830252e+00,\n",
       "       -1.3681440e+00,  5.0152035e+00, -3.3015341e-01,  5.1669827e+00,\n",
       "        4.0869203e+00, -2.1473727e+00,  2.2341037e+00,  7.4050708e+00,\n",
       "        5.1528568e+00, -3.7326701e+00, -1.8232360e+00,  2.9127438e+00,\n",
       "        2.0157340e+00, -2.1104028e+00, -6.6643486e+00, -7.9402548e-01,\n",
       "        3.3257797e+00,  9.6048987e-01,  4.4696722e+00, -7.8420645e-01,\n",
       "        2.9842770e+00,  4.2235980e+00, -3.8464060e+00, -2.0377436e+00,\n",
       "        1.2144527e+00,  2.9468822e+00,  3.3081906e+00, -1.0106010e+00,\n",
       "       -1.1680007e+00,  1.7507905e+00, -3.4527361e+00,  2.1667600e+00,\n",
       "        1.4331023e+00,  2.9648499e+00,  8.5318333e-01,  2.5202899e+00,\n",
       "        6.6705575e+00,  5.6798804e-01, -2.0090826e+00,  1.2261866e+00,\n",
       "        1.4369677e+00,  4.5012280e-01, -2.5906175e-01,  3.1846824e+00,\n",
       "        4.8568514e-01, -3.0113643e-01, -5.2581778e+00,  6.3115025e-01,\n",
       "        5.8525572e+00, -9.9238306e-01, -3.3376658e+00,  3.4448426e+00,\n",
       "        8.9732814e-01,  4.4728065e+00,  4.2161708e+00, -6.7711240e-01,\n",
       "       -2.1973354e+01,  4.7825437e+00, -8.1000996e-01, -4.2856550e+00,\n",
       "        2.0169702e+00, -6.7277014e-01,  2.0534825e+00, -5.6280441e+00,\n",
       "       -3.7565591e+00, -1.4909196e-01, -3.8040106e+00, -9.8101234e-01,\n",
       "       -3.4102166e+00, -2.1278820e+00,  3.9841993e+00, -4.7248101e+00,\n",
       "       -6.0377568e-01, -6.2388492e-01, -1.6440049e+00,  1.7647772e+00,\n",
       "        8.7119508e-01,  7.2310634e-02,  1.4522822e+00,  9.0701306e-01,\n",
       "        1.1874046e+00, -1.2772354e+00,  1.6883866e+00, -6.3549393e-01,\n",
       "       -3.0321524e+00,  8.3407655e-02, -4.3507972e+00,  5.7650809e+00,\n",
       "       -7.3826224e-01, -2.3086002e+00,  2.7293344e+00, -6.2214124e-01,\n",
       "        1.5777535e+00, -5.8670300e-01, -4.6865678e+00, -2.8392288e-01,\n",
       "       -4.2547935e-01, -1.1632984e+00, -4.8280740e+00,  6.5803838e+00,\n",
       "       -5.2139229e-01,  7.1586800e+00, -1.1625475e-01,  2.7569451e+00,\n",
       "        7.1915307e+00,  1.3684247e+00, -1.0797672e-01, -2.1568303e+00,\n",
       "        5.0359979e+00,  2.5371327e+00, -3.4594483e+00, -1.6261390e+00,\n",
       "       -4.7604971e+00,  2.5530465e+00,  6.8645757e-01,  1.6691597e+00,\n",
       "        7.6774740e-01,  4.3976533e-01,  4.6808009e+00, -2.1830382e+00,\n",
       "       -2.4056220e+00, -7.3678714e-01, -1.4258544e+00, -1.5315622e-01,\n",
       "        4.6739368e+00, -4.0589943e+00,  3.2233868e+00, -5.9509168e+00,\n",
       "        1.0928175e+00, -6.7912874e+00, -1.0029751e+00,  9.3965274e-01,\n",
       "       -4.0140977e+00, -2.2814441e+00, -3.7026262e-01,  4.1144490e+00,\n",
       "        4.4599152e-01,  3.2069020e+00,  7.9426444e-01,  1.6425273e+00,\n",
       "       -9.7819662e+00, -5.8384347e+00,  2.1003761e+00,  1.3036941e+00,\n",
       "        2.9716496e+00,  1.3606938e+00, -1.3787993e+00, -3.3274546e+00,\n",
       "       -3.6238813e+00, -1.4470001e-01, -3.0308571e+00,  2.1059719e-01,\n",
       "        1.0152209e+00,  6.5071332e-01,  4.1490622e+00, -1.7958280e+00,\n",
       "       -6.1945200e-02,  3.8396761e+00, -3.1607244e+00,  5.1837163e+00,\n",
       "        2.3979247e-02, -3.4671037e+00, -5.2330065e-01, -1.9253800e+00,\n",
       "       -5.6547351e+00, -5.7406235e+00, -3.8722029e+00,  1.0780197e+00,\n",
       "       -3.0113449e+00, -1.5414425e+00,  4.9508209e+00,  3.4545183e+00,\n",
       "        4.8180852e+00,  9.0378326e-01, -1.4624368e+00, -5.3636851e+00,\n",
       "       -1.2730327e-01, -2.2046208e+00,  1.6889950e+00,  3.9925597e+00,\n",
       "       -8.7982407e+00,  2.8008616e+00, -3.5597005e+00, -4.7420053e+00,\n",
       "       -2.5492434e+01, -5.0312012e-01, -7.1352732e-01, -2.2484479e+00,\n",
       "        2.0585452e-01, -4.3147845e+00, -3.8709974e+00, -4.0601010e+00,\n",
       "       -3.0794930e+00, -4.4480389e-01, -7.2421056e-01, -4.3292961e+00,\n",
       "        3.5838091e+00,  4.2828140e+00,  3.9932275e+00,  4.5007057e+00,\n",
       "        1.7957807e+00,  7.5998861e-01, -3.9839334e+00,  4.5002947e+00,\n",
       "       -1.5020194e+00, -8.0440837e-01,  2.4506438e+00, -2.6723030e+00,\n",
       "        4.6766820e+00,  5.4365249e+00, -2.9227209e+00,  2.4006534e+00,\n",
       "       -4.3413563e+00, -3.1831145e+00, -2.4065933e-01, -1.3564804e+00,\n",
       "        2.2445476e+00, -1.8781950e+00,  1.9834893e+00,  7.6334858e-01,\n",
       "       -3.0022936e+00, -3.3959546e+00,  4.4766178e+00, -4.5759783e+00,\n",
       "       -1.7970920e+00,  1.6594175e+00,  1.6286154e+00, -7.6823182e+00,\n",
       "        5.5139508e+00, -4.6411452e+00, -1.2047517e+00, -2.0486481e+00,\n",
       "        1.2687701e-01,  7.4361682e+00, -2.2697325e+00,  4.6707365e-01,\n",
       "       -2.8920916e-01,  2.2777322e-01, -1.3790419e+00,  9.3821883e-03,\n",
       "        5.2981501e+00,  3.7155919e+00, -1.6356840e+00, -1.6088569e+00,\n",
       "        1.7108072e+00, -3.7613754e+00, -2.2359842e-01, -1.2072077e+00,\n",
       "       -1.9992919e+00, -2.6142142e+00, -2.3563600e+00, -1.5464904e+00,\n",
       "       -8.6248457e-01,  4.0690655e-01, -2.8063650e+00,  2.5393984e+00,\n",
       "       -6.6468186e+00, -8.1413593e+00, -1.7007747e+00,  1.3227421e+00,\n",
       "        6.0101938e-01, -5.9744871e-01,  3.5333469e+00, -3.3826003e+00,\n",
       "       -4.3830481e+00, -8.8800459e+00, -1.4836210e+00, -1.7652338e+00,\n",
       "       -1.8232244e+00, -2.5650036e+00,  1.1554874e+00, -6.3418479e+00,\n",
       "       -2.1385806e+00, -5.8591032e+00,  3.0550847e+00,  1.7535888e-01,\n",
       "       -1.1394625e+00,  9.9593127e-01, -1.9995382e-01, -7.4353075e-01,\n",
       "        7.0061173e+00, -8.4918022e+00,  3.8190029e+00,  1.7911054e-01,\n",
       "        4.4442272e-01, -1.9284753e+00,  4.1238012e+00, -5.8929050e-01,\n",
       "       -2.1902925e-01,  2.5270109e+00, -7.2850585e+00,  1.2354797e-01,\n",
       "        1.7203442e+00,  2.6549938e+00,  1.6368165e+00, -5.3736725e+00,\n",
       "        3.8643887e+00, -1.2918186e+00, -6.7069435e+00,  1.8003489e+00,\n",
       "        2.7819641e+00,  2.4379878e+00,  1.2393873e+00,  3.8508004e-01,\n",
       "        2.8413126e+00,  6.0391626e+00, -3.1315262e+00, -1.7364770e+00,\n",
       "       -4.8497577e+00, -2.2556462e+00,  2.0131249e+00, -5.5226290e-01,\n",
       "       -1.3838868e+00, -1.9730695e+00,  1.1422837e-01, -3.0922041e+00,\n",
       "       -1.2118587e-01,  2.4916801e+00,  3.4299798e+00, -2.2531867e+00,\n",
       "       -1.4908847e+00,  3.1564324e+00,  3.3982587e+00, -4.3902600e-01,\n",
       "       -5.3270423e-01,  4.0621376e+00, -2.6612852e+00, -1.1998441e+00,\n",
       "       -2.7434411e+00,  5.7174315e+00,  2.9695541e-01,  4.1066188e-01,\n",
       "        3.1538100e+00,  4.6018606e-01, -4.9918466e+00, -5.5888605e-01,\n",
       "       -2.7943873e-01, -2.4176667e+00,  1.8323766e+00, -3.6702180e+00,\n",
       "        2.8167715e+00, -3.3181689e+00,  1.8620338e+00, -4.2120457e+00,\n",
       "       -5.4851222e-01,  5.5699391e+00,  2.2324386e+00,  3.7668347e+00,\n",
       "        2.4235916e+00,  3.6344161e+00,  1.4580299e+00, -2.4371941e+00,\n",
       "       -3.2282925e+00,  1.8559458e+00, -2.9518812e+00,  1.7493474e-01,\n",
       "        1.9303515e+00,  5.0545877e-01,  1.9669795e+00,  8.4355736e+00,\n",
       "       -4.0904793e-01, -1.9346073e-01,  2.2415047e+00,  6.9334888e+00,\n",
       "        2.4041650e+00, -1.8475842e+00, -7.3183745e-01, -3.8045436e-01,\n",
       "       -1.0235341e+00,  5.7575550e+00, -1.1306357e+00,  1.6260855e+00,\n",
       "        4.8555297e-01, -2.6387042e-01, -8.4801226e+00,  2.2673852e+00,\n",
       "       -7.3378372e+00, -3.0792928e+00, -5.3025866e+00, -4.4476027e+00,\n",
       "        1.6774175e+00, -3.4692905e+00,  4.1599641e+00, -1.6566790e+00,\n",
       "        7.1594205e+00,  7.1660459e-01, -4.9496307e+00,  5.8294308e-01,\n",
       "       -8.1249058e-01, -1.0186510e+00,  2.3488936e+00,  1.4506915e+00,\n",
       "        2.2585082e-01,  5.4401648e-01,  1.7778659e+00, -5.2819252e+00,\n",
       "       -2.8367157e+00, -6.2831931e+00,  2.0578718e+00, -2.1911442e-01,\n",
       "        3.3739400e+00,  1.1809303e+00,  2.4040222e+00,  6.1441541e-01,\n",
       "       -5.8220854e+00,  2.6966631e+00,  2.9525971e+00,  3.8288143e+00,\n",
       "       -4.1845803e+00, -2.9974005e+00, -9.3969357e-01, -1.0164094e+00,\n",
       "       -7.5828443e+00,  1.7313390e+00,  1.1184878e+00, -3.1426573e+00,\n",
       "        6.2269205e-01,  2.4717546e+00,  4.7199540e+00, -2.0261660e+00,\n",
       "       -6.1995378e+00, -3.3082461e+00,  1.2693346e+00, -9.0171558e-01,\n",
       "       -1.1328027e+00,  3.6174667e-01,  3.4395113e+00, -3.5211675e+00,\n",
       "       -1.2964329e+00, -5.3654656e+00, -3.1612020e+00,  7.1136904e+00,\n",
       "       -4.2705007e+00,  2.6796644e+00,  3.8452733e-01,  5.3112227e-01,\n",
       "       -4.4813480e+00, -3.9636605e+00,  5.0155859e+00, -2.9196265e+00,\n",
       "       -5.7244720e+00,  2.8508697e+00, -2.6131003e+00,  6.2496037e+00,\n",
       "        7.9720635e+00, -1.3596225e+00,  1.4822370e+00,  5.8588791e+00,\n",
       "        4.5171242e+00,  1.3458827e+00,  4.8585331e-01,  1.9511200e+00,\n",
       "        8.5405672e-01, -3.3398383e+00, -2.3272328e+00, -3.5586172e-01,\n",
       "        9.6919358e-02,  1.6310227e+00, -2.9981575e+00, -3.6277585e+00,\n",
       "        4.5419822e+00, -8.3246136e+00,  1.0544581e+00, -3.8993993e+00,\n",
       "        1.6476371e+00,  4.7295785e+00,  4.7096229e-01, -1.5448442e-01,\n",
       "        7.8447217e-01, -1.3668989e+00, -3.8473957e+00,  3.6913514e+00,\n",
       "        1.1926626e+00, -1.1606045e+00, -1.3334810e+00,  6.1685605e+00,\n",
       "       -5.4743609e+00,  1.1519220e+00,  8.4094858e-01, -1.5753484e+00,\n",
       "        3.4922333e+00,  1.8806843e-01,  2.3160205e+00,  9.3501991e-01,\n",
       "        1.4543118e+00,  7.7971468e+00,  1.6055737e+00, -6.2409389e-01,\n",
       "        9.1677499e-01,  2.7483878e+00, -1.6213322e-01, -1.2808127e+00,\n",
       "        1.2053678e+00,  6.0395150e+00, -3.6021922e+00, -5.4416647e+00,\n",
       "        6.7291765e+00,  4.8425446e+00, -5.0902762e+00, -1.4614967e+00,\n",
       "        2.9929416e+00, -3.2080505e+00, -2.1468186e+00,  1.1241915e+00,\n",
       "        1.6518917e+00, -3.4427452e+00,  4.5951762e+00,  2.2947645e+00,\n",
       "       -4.7214875e+00,  4.7428784e+00, -4.6793489e+00, -2.6921303e+00,\n",
       "       -2.1319549e+00,  3.9707961e+00, -5.7403600e-01,  6.3671217e+00,\n",
       "       -2.2588561e-01,  5.0900126e+00, -4.6705747e+00, -5.1702657e+00,\n",
       "        3.3438883e+00,  3.4876714e+00,  2.3889117e+00, -9.8563147e-01,\n",
       "        5.2020955e-01,  2.4502437e+00,  3.0838788e+00,  9.5785248e-01,\n",
       "        1.7925090e+00, -9.6107650e-01,  3.5490707e-01,  6.2745762e-01,\n",
       "        4.3262825e+00,  4.3204641e+00,  1.8588296e+00,  4.2769365e+00,\n",
       "       -1.4491141e-01, -4.3918312e-01,  1.1026355e+00,  2.5025818e+00,\n",
       "        5.8416777e+00,  2.8544097e+00,  1.5138804e+00, -9.9201208e-01,\n",
       "        2.7742712e+00,  4.7743994e-01,  5.2033621e-01, -2.5217478e+00,\n",
       "       -2.0308824e+00,  5.2054462e+00,  3.9429250e+00,  1.3396883e-01,\n",
       "        1.2966894e+00, -5.8851850e-01, -2.4694614e+00,  1.6741239e+00,\n",
       "        1.1025395e+00, -8.5594249e-01, -2.5032988e+00,  4.4707146e+00,\n",
       "        3.9536099e+00,  2.8898773e-01, -5.5814128e+00, -4.4641352e+00,\n",
       "       -8.3465487e-01,  7.0938557e-02, -2.0699337e+00, -3.5267100e+00,\n",
       "       -3.2671418e+00, -7.1318836e+00,  3.9137721e-02,  7.8675225e-02,\n",
       "        1.6349667e+00, -2.1937766e+00, -1.6781148e-01, -4.4185352e+00,\n",
       "        1.1824356e+00, -5.0878925e+00,  7.4365133e-01, -3.9040215e+00,\n",
       "        1.2303602e+00,  4.5356359e+00,  5.8129015e+00,  9.8283541e-01,\n",
       "       -5.8677262e-01, -2.3671598e+00, -1.2767584e+00,  1.7863244e+00,\n",
       "        1.9729871e+00,  2.7490845e+00,  3.2298648e-01, -1.0258865e+00,\n",
       "       -1.2263889e+00, -6.4774885e+00,  3.3448973e+00,  5.1153631e+00,\n",
       "       -9.4783239e+00, -1.0656123e+00, -1.2059495e+00,  1.6468358e+00,\n",
       "        1.7193767e-01, -2.1781309e+00, -5.8514273e-01,  7.1385717e+00,\n",
       "       -2.4879413e+00, -1.1062994e+00,  5.1024942e+00,  6.5354819e+00,\n",
       "       -2.4519694e+00, -1.0599628e-01,  2.0818086e+00,  4.3467631e+00,\n",
       "       -1.1177801e+00, -3.2376060e+00,  7.0793705e+00,  3.6416445e+00,\n",
       "        2.8839414e+00,  2.3988523e+00, -1.0591245e-01, -1.5366580e+00,\n",
       "       -2.7875400e+00,  1.6938063e+00, -2.6814964e+00, -3.6555333e+00,\n",
       "       -2.1943126e+00,  2.7539957e-01,  2.9740353e+00, -2.2448764e+00,\n",
       "       -8.4362459e+00, -2.2867839e+00,  1.3675976e+00, -2.6791010e+00,\n",
       "       -1.8535476e+00, -3.2531776e+00,  2.6929762e+00,  2.5326591e+00,\n",
       "       -7.5615454e-01, -2.2107804e+00,  3.9791721e-01,  2.4051793e+00,\n",
       "        2.0129595e+00, -1.1975092e+00, -2.0758693e+00,  2.6645412e+00],\n",
       "      dtype=float32)"
      ]
     },
     "execution_count": 11,
     "metadata": {},
     "output_type": "execute_result"
    }
   ],
   "source": [
    "doc.tensor.sum(axis=0)"
   ]
  },
  {
   "cell_type": "markdown",
   "metadata": {
    "colab_type": "text",
    "id": "jZukNJrq1FP6"
   },
   "source": [
    "## BERT's shortcomings"
   ]
  },
  {
   "cell_type": "markdown",
   "metadata": {
    "colab_type": "text",
    "id": "K7qmyOpQ1Bwo"
   },
   "source": [
    "BERT was already a revolutionary method with strong performance across multiple tasks, but it wasn’t without its flaws. XLNet pointed out two major problems with BERT.\n",
    "\n",
    "1. The [MASK] token used in training does not appear during fine-tuning\n",
    "\n",
    "BERT is trained to predict tokens replaced with the special [MASK] token. The problem is that the [MASK] token – which is at the center of training BERT – never appears when fine-tuning BERT on downstream tasks.\n",
    "\n",
    "This can cause a whole host of issues such as:\n",
    "\n",
    "What does BERT do for tokens that are not replaced with [MASK]?\n",
    "In most cases, BERT can simply copy non-masked tokens to the output. So would it really learn to produce meaningful representations for non-masked tokens?\n",
    "Of course, BERT still needs to accumulate information from all words in a sequence to denoise [MASK] tokens. But what happens if there are no [MASK] tokens in the input sentence?\n",
    "There are no clear answers to the above problems, but it’s clear that the [MASK] token is a source of train-test skew that can cause problems during fine-tuning. The authors of BERT were aware of this issue and tried to circumvent these problems by replacing some tokens with random real tokens during training instead of replacing them with the [MASK] token. However, this only constituted 10% of the noise. When only 15% of the tokens are noised to begin with, this only amounts to 1.5% of all the tokens, so is a lackluster solution.\n",
    "\n",
    "2. BERT generates predictions independently\n",
    "\n",
    "Another problem stems from the fact that BERT predicts masked tokens in parallel. Let’s illustrate with an example: Suppose we have the following sentence.\n",
    "\n",
    "*I went to [MASK] [MASK] and saw the [MASK] [MASK] [MASK].*\n",
    "\n",
    "One possible way to fill this out is\n",
    "\n",
    "*I went to New York and saw the Empire State building.*\n",
    "\n",
    "Another way is\n",
    "\n",
    "*I went to San Francisco and saw the Golden Gate bridge.*\n",
    "\n",
    "However, the sentence\n",
    "\n",
    "*I went to San Francisco and saw the Empire State building*\n",
    "\n",
    "is not valid. Despite this, BERT **predicts all masked positions in parallel, meaning that during training**, it does not learn to handle dependencies between predicting simultaneously masked tokens. In other words, it _does not learn dependencies between its own predictions_. Since BERT is not actually used to unmask tokens, this is not directly a problem. The reason this can be a problem is that this reduces the number of dependencies BERT learns at once, making the learning signal weaker than it could be.\n",
    "\n",
    "Note that neither of these problems is present in traditional language models. Language models have no [MASK] token and generate all words in a specified order so it learns dependencies between all the words in a sentence."
   ]
  },
  {
   "cell_type": "markdown",
   "metadata": {
    "colab_type": "text",
    "id": "SOLDrTLkm3jt"
   },
   "source": [
    "## XL-Net"
   ]
  },
  {
   "cell_type": "markdown",
   "metadata": {
    "colab_type": "text",
    "id": "tfC36c5Jm6-t"
   },
   "source": [
    "The conceptual difference between BERT and XLNet. Transparent words are masked out so the model cannot rely on them. XLNet learns to predict the words in an arbitrary order but in an autoregressive, sequential manner (not necessarily left-to-right). BERT predicts all masked words simultaneously.\n",
    "\n",
    "\n",
    "XLNet does this by introducing a variant of language modeling called “permutation language modeling”. Permutation language models are trained to predict one token given preceding context like traditional language model, but instead of predicting the tokens in sequential order, it predicts tokens in some random order. To illustrate, let’s take the following sentence as an example:\n",
    "\n",
    "I like cats more than dogs.\n",
    "\n",
    "A traditional language model would predict the tokens in the order\n",
    "\n",
    "“I”, “like”, “cats”, “more”, “than”, “dogs”\n",
    "\n",
    "where each token uses all previous tokens as context."
   ]
  },
  {
   "cell_type": "markdown",
   "metadata": {
    "colab_type": "text",
    "id": "fpEtawVV0WLb"
   },
   "source": [
    "![alt text](https://i2.wp.com/mlexplained.com/wp-content/uploads/2019/06/ezgif.com-gif-maker-1.gif?resize=447%2C170)"
   ]
  },
  {
   "cell_type": "markdown",
   "metadata": {
    "colab_type": "text",
    "id": "8d8J5a100kzC"
   },
   "source": [
    "In expectation, the model should learn to model the dependencies between all combinations of inputs in contrast to traditional language models that only learn dependencies in one direction.\n",
    "\n",
    "The difference between permutation language modeling and BERT is best illustrated below."
   ]
  },
  {
   "cell_type": "markdown",
   "metadata": {
    "colab_type": "text",
    "id": "_BxkIUL70oP0"
   },
   "source": [
    "![alt text](https://i1.wp.com/mlexplained.com/wp-content/uploads/2019/06/Screen-Shot-2019-06-22-at-5.38.12-PM.png?resize=1024%2C567&ssl=1)"
   ]
  },
  {
   "cell_type": "code",
   "execution_count": 12,
   "metadata": {
    "cellView": "form",
    "colab": {},
    "colab_type": "code",
    "id": "d4r5-Lxd16Im"
   },
   "outputs": [],
   "source": [
    "model_choice = \"en_trf_bertbaseuncased_lg\" #@param [\"en_trf_bertbaseuncased_lg\", \"en_trf_xlnetbasecased_lg\"]"
   ]
  },
  {
   "cell_type": "markdown",
   "metadata": {
    "colab_type": "text",
    "id": "KWaPB__T16I4"
   },
   "source": [
    "You can see that the XL-Net model also has the [SEP] and [CLS] tokens like the BERT model - these are in inverse positions however."
   ]
  },
  {
   "cell_type": "code",
   "execution_count": 13,
   "metadata": {
    "colab": {},
    "colab_type": "code",
    "id": "bWDTiDUo16I5"
   },
   "outputs": [
    {
     "name": "stdout",
     "output_type": "stream",
     "text": [
      "['[CLS]', 'here', 'is', 'some', 'text', 'to', 'en', '##code', '.', '[SEP]']\n"
     ]
    }
   ],
   "source": [
    "nlp = spacy.load(model_choice)\n",
    "doc = nlp(\"Here is some text to encode.\")\n",
    "assert doc.tensor.shape == (7, 768)  # Always has one row per token\n",
    "print(doc._.trf_word_pieces_)  # String values of the wordpieces\n",
    "# The raw transformer output has one row per wordpiece."
   ]
  },
  {
   "cell_type": "markdown",
   "metadata": {
    "colab_type": "text",
    "id": "VlDyXzJe16JB"
   },
   "source": [
    "XL-Net doesn't use the the wordpiece model to perform tokenisation but instead uses sentencepiece which doesn't split up words into their component pieces - see encode is a single token/piece"
   ]
  },
  {
   "cell_type": "code",
   "execution_count": 14,
   "metadata": {
    "colab": {},
    "colab_type": "code",
    "id": "yIt50u1a16JC"
   },
   "outputs": [
    {
     "name": "stdout",
     "output_type": "stream",
     "text": [
      "[101, 2182, 2003, 2070, 3793, 2000, 4372, 16044, 1012, 102]\n",
      "[[1], [2], [3], [4], [5], [6, 7], [8]]\n"
     ]
    }
   ],
   "source": [
    "print(doc._.trf_word_pieces)  # Wordpiece IDs (note: *not* spaCy's hash values!)\n",
    "print(doc._.trf_alignment)  # Alignment between spaCy tokens and wordpieces"
   ]
  },
  {
   "cell_type": "markdown",
   "metadata": {
    "colab_type": "text",
    "id": "WoOFAmuL7qPx"
   },
   "source": [
    "Spacy provides the same functionality that we previously saw with BERT: we can access the last hidden layer of each token by using the **._.trf_last_hidden_state** method. It contains 9 embeddings of size 768 - One for each wordpiece (including the [SEP] and [CEP] special tokens)"
   ]
  },
  {
   "cell_type": "code",
   "execution_count": 15,
   "metadata": {
    "colab": {},
    "colab_type": "code",
    "id": "j8i6UCwg7ph0"
   },
   "outputs": [
    {
     "data": {
      "text/plain": [
       "(10, 768)"
      ]
     },
     "execution_count": 15,
     "metadata": {},
     "output_type": "execute_result"
    }
   ],
   "source": [
    "doc._.trf_last_hidden_state.shape"
   ]
  },
  {
   "cell_type": "code",
   "execution_count": 16,
   "metadata": {
    "colab": {},
    "colab_type": "code",
    "id": "Z2dWl1eP8lAL"
   },
   "outputs": [
    {
     "data": {
      "text/plain": [
       "array([[-0.09978366, -0.07679982, -0.15845303, ..., -0.4191933 ,\n",
       "         0.09268823,  0.78294986],\n",
       "       [-0.57427657, -0.47929162, -0.15951425, ..., -0.7806025 ,\n",
       "         0.13546316, -0.2128614 ],\n",
       "       [-0.19338627, -0.6990958 ,  0.03319744, ..., -0.20400496,\n",
       "        -0.30185512,  0.7169397 ],\n",
       "       ...,\n",
       "       [ 0.5448793 ,  0.4625791 ,  0.08483307, ..., -0.49317303,\n",
       "        -0.20977671, -0.13968793],\n",
       "       [ 0.40077427,  0.21478918, -0.501738  , ...,  0.24550702,\n",
       "        -0.27700317, -0.50464964],\n",
       "       [ 0.71843535,  0.4170035 , -0.3470156 , ...,  0.23971555,\n",
       "        -0.63383317, -0.29443938]], dtype=float32)"
      ]
     },
     "execution_count": 16,
     "metadata": {},
     "output_type": "execute_result"
    }
   ],
   "source": [
    "doc._.trf_last_hidden_state"
   ]
  },
  {
   "cell_type": "markdown",
   "metadata": {
    "colab_type": "text",
    "id": "CXiw3T6l8q24"
   },
   "source": [
    "We can use a sum-pooled average to get the sentence embedding"
   ]
  },
  {
   "cell_type": "code",
   "execution_count": 17,
   "metadata": {
    "colab": {},
    "colab_type": "code",
    "id": "zxLzBmnq8nyA"
   },
   "outputs": [
    {
     "data": {
      "text/plain": [
       "array([ 1.9207225e+00, -2.2792095e-01,  9.3010247e-02, -1.9303502e-01,\n",
       "       -8.3393037e-01, -5.1782284e+00,  1.6388576e+00,  5.2698836e+00,\n",
       "       -5.4950118e-03,  4.2340279e-01,  4.8447084e-01, -2.4854691e+00,\n",
       "       -1.9749240e+00,  1.4504011e+00, -4.5884113e+00,  1.3379259e+00,\n",
       "       -3.6306639e+00,  2.5257483e+00,  3.2330334e-02,  1.7336313e+00,\n",
       "       -9.0275252e-01, -2.4054682e-01, -5.8636880e+00,  1.3372457e+00,\n",
       "        8.0944729e+00, -2.8593826e+00, -3.2445679e+00, -1.9461263e+00,\n",
       "       -7.5677419e+00, -2.4196048e+00,  5.6417882e-01,  8.2466805e-01,\n",
       "       -3.0834165e+00, -1.9316554e-01, -1.1168468e+00, -1.1762922e+00,\n",
       "        1.4819348e+00, -9.1734189e-01, -9.9398047e-01,  2.3614202e+00,\n",
       "       -7.0913954e+00, -2.7178843e+00,  2.1950276e+00,  7.3105943e-01,\n",
       "        4.5478292e+00, -3.4893978e+00,  4.7584195e+00, -1.5926307e+00,\n",
       "       -1.6076177e-01,  6.7495507e-01, -5.9701586e+00,  3.2844374e+00,\n",
       "       -9.7776997e-01,  3.2972555e+00,  3.5144129e+00,  5.2314539e+00,\n",
       "       -3.4390551e-01, -6.9125204e+00, -3.1912704e+00,  5.0166792e-01,\n",
       "        2.5998170e+00,  3.1126580e+00, -3.6747489e+00, -5.6205945e+00,\n",
       "        3.3619978e+00, -1.0792727e+00,  7.9788327e-02,  9.1959584e-01,\n",
       "       -1.0888056e+01, -2.9337451e+00, -5.0147371e+00, -6.2811832e+00,\n",
       "       -1.6356399e+00, -2.6247585e+00, -1.4020185e+00,  3.9970436e+00,\n",
       "       -4.3928676e+00,  1.4605204e+00, -3.9715419e+00, -3.9395270e+00,\n",
       "       -1.8260584e+00,  5.5132499e+00, -1.7655001e+00,  3.0855169e+00,\n",
       "        3.6900268e+00, -1.8243670e+00, -5.7643743e+00, -1.7466494e+00,\n",
       "       -2.7275796e+00,  3.7767611e+00, -1.9000093e+00, -6.1193353e-01,\n",
       "       -8.0416906e-01,  1.2766488e+00,  4.7550812e+00, -1.2768335e+00,\n",
       "       -2.0883584e+00,  3.6554160e+00, -1.3759525e+00,  3.2965243e+00,\n",
       "        1.7745707e+00, -4.2281861e+00,  2.7113147e+00, -1.7421401e+00,\n",
       "       -2.5300734e+00, -4.7685838e-01, -1.7353590e+00,  2.8273785e+00,\n",
       "        4.3647280e+00,  1.6426651e+00,  3.6104624e+00, -4.5705719e+00,\n",
       "        4.9996683e-01, -3.6564553e-01, -5.1632018e+00,  1.1769781e+00,\n",
       "        1.3639598e+00, -8.0667764e-01,  9.4572949e-01, -3.5621090e+00,\n",
       "       -5.6972826e-01,  3.4075540e-01,  1.3155793e+00,  9.3830252e+00,\n",
       "       -1.3681440e+00,  5.0152035e+00, -3.3015341e-01,  5.1669827e+00,\n",
       "        4.0869203e+00, -2.1473727e+00,  2.2341037e+00,  7.4050708e+00,\n",
       "        5.1528568e+00, -3.7326701e+00, -1.8232360e+00,  2.9127438e+00,\n",
       "        2.0157340e+00, -2.1104028e+00, -6.6643486e+00, -7.9402548e-01,\n",
       "        3.3257797e+00,  9.6048987e-01,  4.4696722e+00, -7.8420645e-01,\n",
       "        2.9842770e+00,  4.2235980e+00, -3.8464060e+00, -2.0377436e+00,\n",
       "        1.2144527e+00,  2.9468822e+00,  3.3081906e+00, -1.0106010e+00,\n",
       "       -1.1680007e+00,  1.7507905e+00, -3.4527361e+00,  2.1667600e+00,\n",
       "        1.4331023e+00,  2.9648499e+00,  8.5318333e-01,  2.5202899e+00,\n",
       "        6.6705575e+00,  5.6798804e-01, -2.0090826e+00,  1.2261866e+00,\n",
       "        1.4369677e+00,  4.5012280e-01, -2.5906175e-01,  3.1846824e+00,\n",
       "        4.8568514e-01, -3.0113643e-01, -5.2581778e+00,  6.3115025e-01,\n",
       "        5.8525572e+00, -9.9238306e-01, -3.3376658e+00,  3.4448426e+00,\n",
       "        8.9732814e-01,  4.4728065e+00,  4.2161708e+00, -6.7711240e-01,\n",
       "       -2.1973354e+01,  4.7825437e+00, -8.1000996e-01, -4.2856550e+00,\n",
       "        2.0169702e+00, -6.7277014e-01,  2.0534825e+00, -5.6280441e+00,\n",
       "       -3.7565591e+00, -1.4909196e-01, -3.8040106e+00, -9.8101234e-01,\n",
       "       -3.4102166e+00, -2.1278820e+00,  3.9841993e+00, -4.7248101e+00,\n",
       "       -6.0377568e-01, -6.2388492e-01, -1.6440049e+00,  1.7647772e+00,\n",
       "        8.7119508e-01,  7.2310634e-02,  1.4522822e+00,  9.0701306e-01,\n",
       "        1.1874046e+00, -1.2772354e+00,  1.6883866e+00, -6.3549393e-01,\n",
       "       -3.0321524e+00,  8.3407655e-02, -4.3507972e+00,  5.7650809e+00,\n",
       "       -7.3826224e-01, -2.3086002e+00,  2.7293344e+00, -6.2214124e-01,\n",
       "        1.5777535e+00, -5.8670300e-01, -4.6865678e+00, -2.8392288e-01,\n",
       "       -4.2547935e-01, -1.1632984e+00, -4.8280740e+00,  6.5803838e+00,\n",
       "       -5.2139229e-01,  7.1586800e+00, -1.1625475e-01,  2.7569451e+00,\n",
       "        7.1915307e+00,  1.3684247e+00, -1.0797672e-01, -2.1568303e+00,\n",
       "        5.0359979e+00,  2.5371327e+00, -3.4594483e+00, -1.6261390e+00,\n",
       "       -4.7604971e+00,  2.5530465e+00,  6.8645757e-01,  1.6691597e+00,\n",
       "        7.6774740e-01,  4.3976533e-01,  4.6808009e+00, -2.1830382e+00,\n",
       "       -2.4056220e+00, -7.3678714e-01, -1.4258544e+00, -1.5315622e-01,\n",
       "        4.6739368e+00, -4.0589943e+00,  3.2233868e+00, -5.9509168e+00,\n",
       "        1.0928175e+00, -6.7912874e+00, -1.0029751e+00,  9.3965274e-01,\n",
       "       -4.0140977e+00, -2.2814441e+00, -3.7026262e-01,  4.1144490e+00,\n",
       "        4.4599152e-01,  3.2069020e+00,  7.9426444e-01,  1.6425273e+00,\n",
       "       -9.7819662e+00, -5.8384347e+00,  2.1003761e+00,  1.3036941e+00,\n",
       "        2.9716496e+00,  1.3606938e+00, -1.3787993e+00, -3.3274546e+00,\n",
       "       -3.6238813e+00, -1.4470001e-01, -3.0308571e+00,  2.1059719e-01,\n",
       "        1.0152209e+00,  6.5071332e-01,  4.1490622e+00, -1.7958280e+00,\n",
       "       -6.1945200e-02,  3.8396761e+00, -3.1607244e+00,  5.1837163e+00,\n",
       "        2.3979247e-02, -3.4671037e+00, -5.2330065e-01, -1.9253800e+00,\n",
       "       -5.6547351e+00, -5.7406235e+00, -3.8722029e+00,  1.0780197e+00,\n",
       "       -3.0113449e+00, -1.5414425e+00,  4.9508209e+00,  3.4545183e+00,\n",
       "        4.8180852e+00,  9.0378326e-01, -1.4624368e+00, -5.3636851e+00,\n",
       "       -1.2730327e-01, -2.2046208e+00,  1.6889950e+00,  3.9925597e+00,\n",
       "       -8.7982407e+00,  2.8008616e+00, -3.5597005e+00, -4.7420053e+00,\n",
       "       -2.5492434e+01, -5.0312012e-01, -7.1352732e-01, -2.2484479e+00,\n",
       "        2.0585452e-01, -4.3147845e+00, -3.8709974e+00, -4.0601010e+00,\n",
       "       -3.0794930e+00, -4.4480389e-01, -7.2421056e-01, -4.3292961e+00,\n",
       "        3.5838091e+00,  4.2828140e+00,  3.9932275e+00,  4.5007057e+00,\n",
       "        1.7957807e+00,  7.5998861e-01, -3.9839334e+00,  4.5002947e+00,\n",
       "       -1.5020194e+00, -8.0440837e-01,  2.4506438e+00, -2.6723030e+00,\n",
       "        4.6766820e+00,  5.4365249e+00, -2.9227209e+00,  2.4006534e+00,\n",
       "       -4.3413563e+00, -3.1831145e+00, -2.4065933e-01, -1.3564804e+00,\n",
       "        2.2445476e+00, -1.8781950e+00,  1.9834893e+00,  7.6334858e-01,\n",
       "       -3.0022936e+00, -3.3959546e+00,  4.4766178e+00, -4.5759783e+00,\n",
       "       -1.7970920e+00,  1.6594175e+00,  1.6286154e+00, -7.6823182e+00,\n",
       "        5.5139508e+00, -4.6411452e+00, -1.2047517e+00, -2.0486481e+00,\n",
       "        1.2687701e-01,  7.4361682e+00, -2.2697325e+00,  4.6707365e-01,\n",
       "       -2.8920916e-01,  2.2777322e-01, -1.3790419e+00,  9.3821883e-03,\n",
       "        5.2981501e+00,  3.7155919e+00, -1.6356840e+00, -1.6088569e+00,\n",
       "        1.7108072e+00, -3.7613754e+00, -2.2359842e-01, -1.2072077e+00,\n",
       "       -1.9992919e+00, -2.6142142e+00, -2.3563600e+00, -1.5464904e+00,\n",
       "       -8.6248457e-01,  4.0690655e-01, -2.8063650e+00,  2.5393984e+00,\n",
       "       -6.6468186e+00, -8.1413593e+00, -1.7007747e+00,  1.3227421e+00,\n",
       "        6.0101938e-01, -5.9744871e-01,  3.5333469e+00, -3.3826003e+00,\n",
       "       -4.3830481e+00, -8.8800459e+00, -1.4836210e+00, -1.7652338e+00,\n",
       "       -1.8232244e+00, -2.5650036e+00,  1.1554874e+00, -6.3418479e+00,\n",
       "       -2.1385806e+00, -5.8591032e+00,  3.0550847e+00,  1.7535888e-01,\n",
       "       -1.1394625e+00,  9.9593127e-01, -1.9995382e-01, -7.4353075e-01,\n",
       "        7.0061173e+00, -8.4918022e+00,  3.8190029e+00,  1.7911054e-01,\n",
       "        4.4442272e-01, -1.9284753e+00,  4.1238012e+00, -5.8929050e-01,\n",
       "       -2.1902925e-01,  2.5270109e+00, -7.2850585e+00,  1.2354797e-01,\n",
       "        1.7203442e+00,  2.6549938e+00,  1.6368165e+00, -5.3736725e+00,\n",
       "        3.8643887e+00, -1.2918186e+00, -6.7069435e+00,  1.8003489e+00,\n",
       "        2.7819641e+00,  2.4379878e+00,  1.2393873e+00,  3.8508004e-01,\n",
       "        2.8413126e+00,  6.0391626e+00, -3.1315262e+00, -1.7364770e+00,\n",
       "       -4.8497577e+00, -2.2556462e+00,  2.0131249e+00, -5.5226290e-01,\n",
       "       -1.3838868e+00, -1.9730695e+00,  1.1422837e-01, -3.0922041e+00,\n",
       "       -1.2118587e-01,  2.4916801e+00,  3.4299798e+00, -2.2531867e+00,\n",
       "       -1.4908847e+00,  3.1564324e+00,  3.3982587e+00, -4.3902600e-01,\n",
       "       -5.3270423e-01,  4.0621376e+00, -2.6612852e+00, -1.1998441e+00,\n",
       "       -2.7434411e+00,  5.7174315e+00,  2.9695541e-01,  4.1066188e-01,\n",
       "        3.1538100e+00,  4.6018606e-01, -4.9918466e+00, -5.5888605e-01,\n",
       "       -2.7943873e-01, -2.4176667e+00,  1.8323766e+00, -3.6702180e+00,\n",
       "        2.8167715e+00, -3.3181689e+00,  1.8620338e+00, -4.2120457e+00,\n",
       "       -5.4851222e-01,  5.5699391e+00,  2.2324386e+00,  3.7668347e+00,\n",
       "        2.4235916e+00,  3.6344161e+00,  1.4580299e+00, -2.4371941e+00,\n",
       "       -3.2282925e+00,  1.8559458e+00, -2.9518812e+00,  1.7493474e-01,\n",
       "        1.9303515e+00,  5.0545877e-01,  1.9669795e+00,  8.4355736e+00,\n",
       "       -4.0904793e-01, -1.9346073e-01,  2.2415047e+00,  6.9334888e+00,\n",
       "        2.4041650e+00, -1.8475842e+00, -7.3183745e-01, -3.8045436e-01,\n",
       "       -1.0235341e+00,  5.7575550e+00, -1.1306357e+00,  1.6260855e+00,\n",
       "        4.8555297e-01, -2.6387042e-01, -8.4801226e+00,  2.2673852e+00,\n",
       "       -7.3378372e+00, -3.0792928e+00, -5.3025866e+00, -4.4476027e+00,\n",
       "        1.6774175e+00, -3.4692905e+00,  4.1599641e+00, -1.6566790e+00,\n",
       "        7.1594205e+00,  7.1660459e-01, -4.9496307e+00,  5.8294308e-01,\n",
       "       -8.1249058e-01, -1.0186510e+00,  2.3488936e+00,  1.4506915e+00,\n",
       "        2.2585082e-01,  5.4401648e-01,  1.7778659e+00, -5.2819252e+00,\n",
       "       -2.8367157e+00, -6.2831931e+00,  2.0578718e+00, -2.1911442e-01,\n",
       "        3.3739400e+00,  1.1809303e+00,  2.4040222e+00,  6.1441541e-01,\n",
       "       -5.8220854e+00,  2.6966631e+00,  2.9525971e+00,  3.8288143e+00,\n",
       "       -4.1845803e+00, -2.9974005e+00, -9.3969357e-01, -1.0164094e+00,\n",
       "       -7.5828443e+00,  1.7313390e+00,  1.1184878e+00, -3.1426573e+00,\n",
       "        6.2269205e-01,  2.4717546e+00,  4.7199540e+00, -2.0261660e+00,\n",
       "       -6.1995378e+00, -3.3082461e+00,  1.2693346e+00, -9.0171558e-01,\n",
       "       -1.1328027e+00,  3.6174667e-01,  3.4395113e+00, -3.5211675e+00,\n",
       "       -1.2964329e+00, -5.3654656e+00, -3.1612020e+00,  7.1136904e+00,\n",
       "       -4.2705007e+00,  2.6796644e+00,  3.8452733e-01,  5.3112227e-01,\n",
       "       -4.4813480e+00, -3.9636605e+00,  5.0155859e+00, -2.9196265e+00,\n",
       "       -5.7244720e+00,  2.8508697e+00, -2.6131003e+00,  6.2496037e+00,\n",
       "        7.9720635e+00, -1.3596225e+00,  1.4822370e+00,  5.8588791e+00,\n",
       "        4.5171242e+00,  1.3458827e+00,  4.8585331e-01,  1.9511200e+00,\n",
       "        8.5405672e-01, -3.3398383e+00, -2.3272328e+00, -3.5586172e-01,\n",
       "        9.6919358e-02,  1.6310227e+00, -2.9981575e+00, -3.6277585e+00,\n",
       "        4.5419822e+00, -8.3246136e+00,  1.0544581e+00, -3.8993993e+00,\n",
       "        1.6476371e+00,  4.7295785e+00,  4.7096229e-01, -1.5448442e-01,\n",
       "        7.8447217e-01, -1.3668989e+00, -3.8473957e+00,  3.6913514e+00,\n",
       "        1.1926626e+00, -1.1606045e+00, -1.3334810e+00,  6.1685605e+00,\n",
       "       -5.4743609e+00,  1.1519220e+00,  8.4094858e-01, -1.5753484e+00,\n",
       "        3.4922333e+00,  1.8806843e-01,  2.3160205e+00,  9.3501991e-01,\n",
       "        1.4543118e+00,  7.7971468e+00,  1.6055737e+00, -6.2409389e-01,\n",
       "        9.1677499e-01,  2.7483878e+00, -1.6213322e-01, -1.2808127e+00,\n",
       "        1.2053678e+00,  6.0395150e+00, -3.6021922e+00, -5.4416647e+00,\n",
       "        6.7291765e+00,  4.8425446e+00, -5.0902762e+00, -1.4614967e+00,\n",
       "        2.9929416e+00, -3.2080505e+00, -2.1468186e+00,  1.1241915e+00,\n",
       "        1.6518917e+00, -3.4427452e+00,  4.5951762e+00,  2.2947645e+00,\n",
       "       -4.7214875e+00,  4.7428784e+00, -4.6793489e+00, -2.6921303e+00,\n",
       "       -2.1319549e+00,  3.9707961e+00, -5.7403600e-01,  6.3671217e+00,\n",
       "       -2.2588561e-01,  5.0900126e+00, -4.6705747e+00, -5.1702657e+00,\n",
       "        3.3438883e+00,  3.4876714e+00,  2.3889117e+00, -9.8563147e-01,\n",
       "        5.2020955e-01,  2.4502437e+00,  3.0838788e+00,  9.5785248e-01,\n",
       "        1.7925090e+00, -9.6107650e-01,  3.5490707e-01,  6.2745762e-01,\n",
       "        4.3262825e+00,  4.3204641e+00,  1.8588296e+00,  4.2769365e+00,\n",
       "       -1.4491141e-01, -4.3918312e-01,  1.1026355e+00,  2.5025818e+00,\n",
       "        5.8416777e+00,  2.8544097e+00,  1.5138804e+00, -9.9201208e-01,\n",
       "        2.7742712e+00,  4.7743994e-01,  5.2033621e-01, -2.5217478e+00,\n",
       "       -2.0308824e+00,  5.2054462e+00,  3.9429250e+00,  1.3396883e-01,\n",
       "        1.2966894e+00, -5.8851850e-01, -2.4694614e+00,  1.6741239e+00,\n",
       "        1.1025395e+00, -8.5594249e-01, -2.5032988e+00,  4.4707146e+00,\n",
       "        3.9536099e+00,  2.8898773e-01, -5.5814128e+00, -4.4641352e+00,\n",
       "       -8.3465487e-01,  7.0938557e-02, -2.0699337e+00, -3.5267100e+00,\n",
       "       -3.2671418e+00, -7.1318836e+00,  3.9137721e-02,  7.8675225e-02,\n",
       "        1.6349667e+00, -2.1937766e+00, -1.6781148e-01, -4.4185352e+00,\n",
       "        1.1824356e+00, -5.0878925e+00,  7.4365133e-01, -3.9040215e+00,\n",
       "        1.2303602e+00,  4.5356359e+00,  5.8129015e+00,  9.8283541e-01,\n",
       "       -5.8677262e-01, -2.3671598e+00, -1.2767584e+00,  1.7863244e+00,\n",
       "        1.9729871e+00,  2.7490845e+00,  3.2298648e-01, -1.0258865e+00,\n",
       "       -1.2263889e+00, -6.4774885e+00,  3.3448973e+00,  5.1153631e+00,\n",
       "       -9.4783239e+00, -1.0656123e+00, -1.2059495e+00,  1.6468358e+00,\n",
       "        1.7193767e-01, -2.1781309e+00, -5.8514273e-01,  7.1385717e+00,\n",
       "       -2.4879413e+00, -1.1062994e+00,  5.1024942e+00,  6.5354819e+00,\n",
       "       -2.4519694e+00, -1.0599628e-01,  2.0818086e+00,  4.3467631e+00,\n",
       "       -1.1177801e+00, -3.2376060e+00,  7.0793705e+00,  3.6416445e+00,\n",
       "        2.8839414e+00,  2.3988523e+00, -1.0591245e-01, -1.5366580e+00,\n",
       "       -2.7875400e+00,  1.6938063e+00, -2.6814964e+00, -3.6555333e+00,\n",
       "       -2.1943126e+00,  2.7539957e-01,  2.9740353e+00, -2.2448764e+00,\n",
       "       -8.4362459e+00, -2.2867839e+00,  1.3675976e+00, -2.6791010e+00,\n",
       "       -1.8535476e+00, -3.2531776e+00,  2.6929762e+00,  2.5326591e+00,\n",
       "       -7.5615454e-01, -2.2107804e+00,  3.9791721e-01,  2.4051793e+00,\n",
       "        2.0129595e+00, -1.1975092e+00, -2.0758693e+00,  2.6645412e+00],\n",
       "      dtype=float32)"
      ]
     },
     "execution_count": 17,
     "metadata": {},
     "output_type": "execute_result"
    }
   ],
   "source": [
    "doc.tensor.sum(axis=0)"
   ]
  },
  {
   "cell_type": "markdown",
   "metadata": {
    "colab_type": "text",
    "id": "pdYETUiBcddG"
   },
   "source": [
    "## SOTA powered Spacy Similarity "
   ]
  },
  {
   "cell_type": "code",
   "execution_count": 18,
   "metadata": {
    "cellView": "form",
    "colab": {},
    "colab_type": "code",
    "id": "_zMjYNXSgabE"
   },
   "outputs": [],
   "source": [
    "model_choice = \"en_trf_bertbaseuncased_lg\" #@param [\"en_trf_bertbaseuncased_lg\", \"en_trf_xlnetbasecased_lg\"]"
   ]
  },
  {
   "cell_type": "markdown",
   "metadata": {
    "colab_type": "text",
    "id": "9ag2KReTdO2D"
   },
   "source": [
    "As the transformer is integrated into the normal spaCy pipeline and methods - we can use the **.similarity** method to compare vectors at both token level and at sentence level - see https://spacy.io/api/token#similarity. We can also access vectors directly using the **.vector** method"
   ]
  },
  {
   "cell_type": "code",
   "execution_count": 19,
   "metadata": {
    "colab": {},
    "colab_type": "code",
    "id": "Ml1Mw8g0Segr"
   },
   "outputs": [],
   "source": [
    "apple1 = nlp(\"Apple shares rose on the news.\")\n",
    "apple2 = nlp(\"Apple sold fewer iPhones this quarter.\")\n",
    "apple3 = nlp(\"Apple pie is delicious.\")"
   ]
  },
  {
   "cell_type": "markdown",
   "metadata": {
    "colab_type": "text",
    "id": "1ANGSPcpilt1"
   },
   "source": [
    "At a token level - we can see that the word Apple has different embedding representations in each context and so the similarity of Apple & Apple in each context is different. The model correctly identifies the difference between the embedding representation of the company and the fruit"
   ]
  },
  {
   "cell_type": "code",
   "execution_count": 20,
   "metadata": {
    "colab": {},
    "colab_type": "code",
    "id": "K1NUD8QGihC_"
   },
   "outputs": [
    {
     "name": "stdout",
     "output_type": "stream",
     "text": [
      "0.7342854\n",
      "0.43365785\n"
     ]
    }
   ],
   "source": [
    "print(apple1[0].similarity(apple2[0]))  # 0.73428553\n",
    "print(apple1[0].similarity(apple3[0]))  # 0.43365782"
   ]
  },
  {
   "cell_type": "markdown",
   "metadata": {
    "colab_type": "text",
    "id": "Bc5jzS0ji2aQ"
   },
   "source": [
    "Similarly, this can be applied at a sentence level with the two Company related Apple sentence are more similar that the apple pie sentence is"
   ]
  },
  {
   "cell_type": "code",
   "execution_count": 21,
   "metadata": {
    "colab": {
     "base_uri": "https://localhost:8080/",
     "height": 51
    },
    "colab_type": "code",
    "id": "8xjw1bzrcDFM",
    "outputId": "a1fdbfa7-3c49-4f5e-9f34-56040b2f0cdc"
   },
   "outputs": [
    {
     "name": "stdout",
     "output_type": "stream",
     "text": [
      "0.6986120914710375\n",
      "0.5404962428539382\n"
     ]
    }
   ],
   "source": [
    "print(apple1.similarity(apple2)) #0.69861203\n",
    "print(apple1.similarity(apple3)) #0.5404963"
   ]
  },
  {
   "cell_type": "markdown",
   "metadata": {
    "colab_type": "text",
    "id": "melSdrH5jVjl"
   },
   "source": [
    "To understand what's going on under the hood, we can manually recreate the above similarity scores using numpy & scipy methods.\n",
    "First we perform a sum-pooled vector representation of each token to get a sentence embedding as we did above. Then we convert the cupy/chainer array to a numpy array"
   ]
  },
  {
   "cell_type": "code",
   "execution_count": 22,
   "metadata": {
    "colab": {},
    "colab_type": "code",
    "id": "k2OZWp87dgRX"
   },
   "outputs": [],
   "source": [
    "#a1_embedding = cupy.asnumpy(apple1.tensor.sum(axis=0))\n",
    "#a2_embedding = cupy.asnumpy(apple2.tensor.sum(axis=0))\n",
    "#a3_embedding = cupy.asnumpy(apple3.tensor.sum(axis=0))\n",
    "a1_embedding = apple1.tensor.sum(axis=0)\n",
    "a2_embedding = apple2.tensor.sum(axis=0)\n",
    "a3_embedding = apple3.tensor.sum(axis=0)"
   ]
  },
  {
   "cell_type": "markdown",
   "metadata": {
    "colab_type": "text",
    "id": "aIUPTcPzkBkp"
   },
   "source": [
    "Similarity is defined as **1 - cosine distance** between two arrays"
   ]
  },
  {
   "cell_type": "code",
   "execution_count": 23,
   "metadata": {
    "colab": {
     "base_uri": "https://localhost:8080/",
     "height": 34
    },
    "colab_type": "code",
    "id": "IXDNgXPdetVZ",
    "outputId": "b8a59d51-8d4c-43e0-e09a-cf6574451ac2"
   },
   "outputs": [
    {
     "name": "stdout",
     "output_type": "stream",
     "text": [
      "Similarity between Sentence 1 and Sentence 2 is : 0.6986120343208313\n"
     ]
    }
   ],
   "source": [
    "print(f\"Similarity between Sentence 1 and Sentence 2 is : {1 - distance.cosine(a1_embedding, a2_embedding)}\")"
   ]
  },
  {
   "cell_type": "code",
   "execution_count": 24,
   "metadata": {
    "colab": {
     "base_uri": "https://localhost:8080/",
     "height": 34
    },
    "colab_type": "code",
    "id": "pDlin4s0gxJh",
    "outputId": "7c9de59a-e447-4092-9593-a31e2039e259"
   },
   "outputs": [
    {
     "name": "stdout",
     "output_type": "stream",
     "text": [
      "Similarity between Sentence 1 and Sentence 3 is : 0.540496289730072\n"
     ]
    }
   ],
   "source": [
    "print(f\"Similarity between Sentence 1 and Sentence 3 is : {1 - distance.cosine(a1_embedding, a3_embedding)}\")"
   ]
  },
  {
   "cell_type": "markdown",
   "metadata": {
    "colab_type": "text",
    "id": "gCYP4vSdm_c9"
   },
   "source": [
    "# Build a Sentiment Classifier using spaCy Transformers"
   ]
  },
  {
   "cell_type": "markdown",
   "metadata": {
    "colab_type": "text",
    "id": "SV1dMBeqG-Kx"
   },
   "source": [
    "This is a notebook version of the example found in the spaCy Transformers Github repo: https://github.com/explosion/spacy-transformers/blob/master/examples/train_textcat.py"
   ]
  },
  {
   "cell_type": "markdown",
   "metadata": {
    "colab_type": "text",
    "id": "LtY-e6I1jZdE"
   },
   "source": [
    "**Restart the kernel prior to running this section as the memory allocation on the GPU from the previous sections will cause the code to error**"
   ]
  },
  {
   "cell_type": "markdown",
   "metadata": {
    "colab_type": "text",
    "id": "AvRUxThvGmvb"
   },
   "source": [
    "Loading in additional libraries for this example"
   ]
  },
  {
   "cell_type": "code",
   "execution_count": 43,
   "metadata": {
    "colab": {},
    "colab_type": "code",
    "id": "3t_a1cU4E7ru"
   },
   "outputs": [],
   "source": [
    "import thinc\n",
    "import random\n",
    "import spacy\n",
    "#import GPUtil\n",
    "import torch\n",
    "from spacy.util import minibatch\n",
    "from tqdm.auto import tqdm\n",
    "import unicodedata\n",
    "import wasabi\n",
    "import numpy\n",
    "from collections import Counter"
   ]
  },
  {
   "cell_type": "markdown",
   "metadata": {
    "colab_type": "text",
    "id": "ZGaOGrM2GQhS"
   },
   "source": [
    "Ensuring GPU is in use: \n",
    "To run this example, ensure GPU MEM ~ 1% at start"
   ]
  },
  {
   "cell_type": "code",
   "execution_count": 44,
   "metadata": {
    "colab": {
     "base_uri": "https://localhost:8080/",
     "height": 85
    },
    "colab_type": "code",
    "id": "fYUnrNLBFRMU",
    "outputId": "1451c477-ec6d-4fe1-a3af-4e1ce91b81bd"
   },
   "outputs": [],
   "source": [
    "spacy.util.fix_random_seed(0)\n",
    "is_using_gpu = spacy.prefer_gpu()\n",
    "if is_using_gpu:\n",
    "    torch.set_default_tensor_type(\"torch.cuda.FloatTensor\")\n",
    "    print(\"GPU Usage\")\n",
    "    GPUtil.showUtilization()"
   ]
  },
  {
   "cell_type": "markdown",
   "metadata": {
    "colab_type": "text",
    "id": "QUeI3d7NG8eW"
   },
   "source": [
    "We'll use the IMDB movie database for sentiment analysis (https://ai.stanford.edu/~amaas/data/sentiment/). We've imported thinc which has the imdb dataset available as a build in method"
   ]
  },
  {
   "cell_type": "code",
   "execution_count": 45,
   "metadata": {
    "colab": {},
    "colab_type": "code",
    "id": "PVDVlegnD0st"
   },
   "outputs": [],
   "source": [
    "def _prepare_partition(text_label_tuples, *, preprocess=False):\n",
    "    texts, labels = zip(*text_label_tuples)\n",
    "    cats = [{\"POSITIVE\": bool(y), \"NEGATIVE\": not bool(y)} for y in labels]\n",
    "    return texts, cats\n",
    "\n",
    "def load_data(*, limit=0, dev_size=2000):\n",
    "    \"\"\"Load data from the IMDB dataset, splitting off a held-out set.\"\"\"\n",
    "    if limit != 0:\n",
    "        limit += dev_size\n",
    "    assert dev_size != 0\n",
    "    train_data, _ = thinc.extra.datasets.imdb(limit=limit)\n",
    "    assert len(train_data) > dev_size\n",
    "    random.shuffle(train_data)\n",
    "    dev_data = train_data[:dev_size]\n",
    "    train_data = train_data[dev_size:]\n",
    "    train_texts, train_labels = _prepare_partition(train_data, preprocess=False)\n",
    "    dev_texts, dev_labels = _prepare_partition(dev_data, preprocess=False)\n",
    "    return (train_texts, train_labels), (dev_texts, dev_labels)"
   ]
  },
  {
   "cell_type": "markdown",
   "metadata": {
    "colab_type": "text",
    "id": "PtsDDKy2Hjpe"
   },
   "source": [
    "We can call the above functions to generate our training and testing data"
   ]
  },
  {
   "cell_type": "code",
   "execution_count": 46,
   "metadata": {
    "colab": {},
    "colab_type": "code",
    "id": "xvNA6LTEEEk5"
   },
   "outputs": [],
   "source": [
    "(train_texts, train_cats), (eval_texts, eval_cats) = load_data()"
   ]
  },
  {
   "cell_type": "markdown",
   "metadata": {
    "colab_type": "text",
    "id": "BI4ZNqIrIGBS"
   },
   "source": [
    "next we'll select the transformer model we want to use to load into spacy"
   ]
  },
  {
   "cell_type": "code",
   "execution_count": 47,
   "metadata": {
    "cellView": "form",
    "colab": {},
    "colab_type": "code",
    "id": "7QrsNYcaIENM"
   },
   "outputs": [],
   "source": [
    "model_choice = \"en_trf_xlnetbasecased_lg\" #@param [\"en_trf_bertbaseuncased_lg\", \"en_trf_xlnetbasecased_lg\"]"
   ]
  },
  {
   "cell_type": "code",
   "execution_count": 48,
   "metadata": {
    "colab": {
     "base_uri": "https://localhost:8080/",
     "height": 51
    },
    "colab_type": "code",
    "id": "JfsM3mIBGDAc",
    "outputId": "d0540816-8364-4185-87ee-571a238274ca"
   },
   "outputs": [
    {
     "name": "stdout",
     "output_type": "stream",
     "text": [
      "['sentencizer', 'trf_wordpiecer', 'trf_tok2vec']\n",
      "Loaded model 'en_trf_xlnetbasecased_lg'\n"
     ]
    }
   ],
   "source": [
    "nlp = spacy.load(model_choice)\n",
    "print(nlp.pipe_names)\n",
    "print(f\"Loaded model '{model_choice}'\")\n",
    "if model_choice == \"en_trf_xlnetbasecased_lg\":\n",
    "  textcat = nlp.create_pipe(\n",
    "          \"trf_textcat\", config={\"architecture\": \"softmax_class_vector\"}\n",
    "      )\n",
    "elif model_choice == \"en_trf_bertbaseuncased_lg\":\n",
    "  textcat = nlp.create_pipe(\n",
    "          \"trf_textcat\", config={\"architecture\": \"softmax_class_vector\"}\n",
    "      )\n",
    "else: \n",
    "  print(\"Choose a supported transformer model\")"
   ]
  },
  {
   "cell_type": "code",
   "execution_count": 49,
   "metadata": {
    "colab": {
     "base_uri": "https://localhost:8080/",
     "height": 34
    },
    "colab_type": "code",
    "id": "J8fhlT3WIjEU",
    "outputId": "331d8a3c-4a19-4338-a5ae-bed9caaccf2d"
   },
   "outputs": [
    {
     "data": {
      "text/plain": [
       "1"
      ]
     },
     "execution_count": 49,
     "metadata": {},
     "output_type": "execute_result"
    }
   ],
   "source": [
    " # add label to text classifier\n",
    "textcat.add_label(\"POSITIVE\")\n",
    "textcat.add_label(\"NEGATIVE\")"
   ]
  },
  {
   "cell_type": "code",
   "execution_count": 50,
   "metadata": {
    "colab": {
     "base_uri": "https://localhost:8080/",
     "height": 51
    },
    "colab_type": "code",
    "id": "dNFWKkgtIut6",
    "outputId": "3a98dafe-3445-4734-8f06-039f22bc740a"
   },
   "outputs": [
    {
     "name": "stdout",
     "output_type": "stream",
     "text": [
      "Labels: ('POSITIVE', 'NEGATIVE')\n",
      "Using 23000 training docs, 2000 evaluation\n"
     ]
    }
   ],
   "source": [
    "print(\"Labels:\", textcat.labels)\n",
    "nlp.add_pipe(textcat, last=True)\n",
    "print(f\"Using {len(train_texts)} training docs, {len(eval_texts)} evaluation\")"
   ]
  },
  {
   "cell_type": "code",
   "execution_count": 51,
   "metadata": {
    "colab": {},
    "colab_type": "code",
    "id": "4Rh-Xnh3JL12"
   },
   "outputs": [],
   "source": [
    "# total_words = sum(len(text.split()) for text in train_texts)\n",
    "train_data = list(zip(train_texts, [{\"cats\": cats} for cats in train_cats]))"
   ]
  },
  {
   "cell_type": "code",
   "execution_count": 52,
   "metadata": {
    "colab": {},
    "colab_type": "code",
    "id": "vnMtV7pbOF-i"
   },
   "outputs": [],
   "source": [
    "n_iter=4\n",
    "n_texts=75 # 1000 #Changed number of texts to 75 to relieve pressue on GPU memory\n",
    "batch_size=4  #8 #batch-szie changed to 4 to relieve pressure on GPU memory\n",
    "learn_rate=2e-5\n",
    "max_wpb=1000\n",
    "pos_label=\"POSITIVE\""
   ]
  },
  {
   "cell_type": "code",
   "execution_count": 53,
   "metadata": {
    "colab": {},
    "colab_type": "code",
    "id": "eKg0EgDYjIcQ"
   },
   "outputs": [],
   "source": [
    "def cyclic_triangular_rate(min_lr, max_lr, period):\n",
    "    it = 1\n",
    "    while True:\n",
    "        # https://towardsdatascience.com/adaptive-and-cyclical-learning-rates-using-pytorch-2bf904d18dee\n",
    "        cycle = numpy.floor(1 + it / (2 * period))\n",
    "        x = numpy.abs(it / period - 2 * cycle + 1)\n",
    "        relative = max(0, 1 - x)\n",
    "        yield min_lr + (max_lr - min_lr) * relative\n",
    "        it += 1"
   ]
  },
  {
   "cell_type": "code",
   "execution_count": 54,
   "metadata": {
    "colab": {},
    "colab_type": "code",
    "id": "3LaQNbUqjKBl"
   },
   "outputs": [],
   "source": [
    "def evaluate(nlp, texts, cats, pos_label):\n",
    "    tp = 0.0  # True positives\n",
    "    fp = 0.0  # False positives\n",
    "    fn = 0.0  # False negatives\n",
    "    tn = 0.0  # True negatives\n",
    "    total_words = sum(len(text.split()) for text in texts)\n",
    "    with tqdm(total=total_words, leave=False) as pbar:\n",
    "        for i, doc in enumerate(nlp.pipe(texts, batch_size=batch_size)):\n",
    "            gold = cats[i]\n",
    "            for label, score in doc.cats.items():\n",
    "                if label not in gold:\n",
    "                    continue\n",
    "                if label != pos_label:\n",
    "                    continue\n",
    "                if score >= 0.5 and gold[label] >= 0.5:\n",
    "                    tp += 1.0\n",
    "                elif score >= 0.5 and gold[label] < 0.5:\n",
    "                    fp += 1.0\n",
    "                elif score < 0.5 and gold[label] < 0.5:\n",
    "                    tn += 1\n",
    "                elif score < 0.5 and gold[label] >= 0.5:\n",
    "                    fn += 1\n",
    "            pbar.update(len(doc.text.split()))\n",
    "    precision = tp / (tp + fp + 1e-8)\n",
    "    recall = tp / (tp + fn + 1e-8)\n",
    "    if (precision + recall) == 0:\n",
    "        f_score = 0.0\n",
    "    else:\n",
    "        f_score = 2 * (precision * recall) / (precision + recall)\n",
    "    return {\"textcat_p\": precision, \"textcat_r\": recall, \"textcat_f\": f_score}"
   ]
  },
  {
   "cell_type": "code",
   "execution_count": 55,
   "metadata": {
    "colab": {
     "base_uri": "https://localhost:8080/",
     "height": 51
    },
    "colab_type": "code",
    "id": "yno_aYKmJHSN",
    "outputId": "455065cf-aa9a-4684-c3c0-c6a02fe70040"
   },
   "outputs": [
    {
     "name": "stdout",
     "output_type": "stream",
     "text": [
      "Training the model...\n",
      "LOSS \t  P  \t  R  \t  F  \n"
     ]
    },
    {
     "data": {
      "application/vnd.jupyter.widget-view+json": {
       "model_id": "2337bec90b2a4f9584e0daf9ab1e6cf8",
       "version_major": 2,
       "version_minor": 0
      },
      "text/plain": [
       "HBox(children=(FloatProgress(value=0.0), HTML(value='')))"
      ]
     },
     "metadata": {},
     "output_type": "display_data"
    },
    {
     "ename": "RuntimeError",
     "evalue": "Mismatch in shape: grad_output[0] has a shape of torch.Size([1, 128, 768]) and output[0] has a shape of torch.Size([1, 129, 768]).",
     "output_type": "error",
     "traceback": [
      "\u001b[0;31m---------------------------------------------------------------------------\u001b[0m",
      "\u001b[0;31mRuntimeError\u001b[0m                              Traceback (most recent call last)",
      "\u001b[0;32m<ipython-input-55-0a2f12af3226>\u001b[0m in \u001b[0;36m<module>\u001b[0;34m\u001b[0m\n\u001b[1;32m     24\u001b[0m         \u001b[0moptimizer\u001b[0m\u001b[0;34m.\u001b[0m\u001b[0mtrf_lr\u001b[0m \u001b[0;34m=\u001b[0m \u001b[0mnext\u001b[0m\u001b[0;34m(\u001b[0m\u001b[0mlearn_rates\u001b[0m\u001b[0;34m)\u001b[0m\u001b[0;34m\u001b[0m\u001b[0;34m\u001b[0m\u001b[0m\n\u001b[1;32m     25\u001b[0m         \u001b[0mtexts\u001b[0m\u001b[0;34m,\u001b[0m \u001b[0mannotations\u001b[0m \u001b[0;34m=\u001b[0m \u001b[0mzip\u001b[0m\u001b[0;34m(\u001b[0m\u001b[0;34m*\u001b[0m\u001b[0mbatch\u001b[0m\u001b[0;34m)\u001b[0m\u001b[0;34m\u001b[0m\u001b[0;34m\u001b[0m\u001b[0m\n\u001b[0;32m---> 26\u001b[0;31m         \u001b[0mnlp\u001b[0m\u001b[0;34m.\u001b[0m\u001b[0mupdate\u001b[0m\u001b[0;34m(\u001b[0m\u001b[0mtexts\u001b[0m\u001b[0;34m,\u001b[0m \u001b[0mannotations\u001b[0m\u001b[0;34m,\u001b[0m \u001b[0msgd\u001b[0m\u001b[0;34m=\u001b[0m\u001b[0moptimizer\u001b[0m\u001b[0;34m,\u001b[0m \u001b[0mdrop\u001b[0m\u001b[0;34m=\u001b[0m\u001b[0;36m0.1\u001b[0m\u001b[0;34m,\u001b[0m \u001b[0mlosses\u001b[0m\u001b[0;34m=\u001b[0m\u001b[0mlosses\u001b[0m\u001b[0;34m)\u001b[0m\u001b[0;34m\u001b[0m\u001b[0;34m\u001b[0m\u001b[0m\n\u001b[0m\u001b[1;32m     27\u001b[0m         \u001b[0mpbar\u001b[0m\u001b[0;34m.\u001b[0m\u001b[0mupdate\u001b[0m\u001b[0;34m(\u001b[0m\u001b[0;36m1\u001b[0m\u001b[0;34m)\u001b[0m\u001b[0;34m\u001b[0m\u001b[0;34m\u001b[0m\u001b[0m\n\u001b[1;32m     28\u001b[0m         \u001b[0;32mif\u001b[0m \u001b[0mstep\u001b[0m \u001b[0;32mand\u001b[0m \u001b[0;34m(\u001b[0m\u001b[0mstep\u001b[0m \u001b[0;34m%\u001b[0m \u001b[0meval_every\u001b[0m\u001b[0;34m)\u001b[0m \u001b[0;34m==\u001b[0m \u001b[0;36m0\u001b[0m\u001b[0;34m:\u001b[0m\u001b[0;34m\u001b[0m\u001b[0;34m\u001b[0m\u001b[0m\n",
      "\u001b[0;32m~/src/oecd_financial_flows/venv_oecdflows/lib/python3.7/site-packages/spacy_transformers/language.py\u001b[0m in \u001b[0;36mupdate\u001b[0;34m(self, docs, golds, drop, sgd, losses, component_cfg)\u001b[0m\n\u001b[1;32m    108\u001b[0m                 \u001b[0mcomponent_cfg\u001b[0m\u001b[0;34m=\u001b[0m\u001b[0mcomponent_cfg\u001b[0m\u001b[0;34m,\u001b[0m\u001b[0;34m\u001b[0m\u001b[0;34m\u001b[0m\u001b[0m\n\u001b[1;32m    109\u001b[0m             )\n\u001b[0;32m--> 110\u001b[0;31m         \u001b[0mbackprop_tok2vec\u001b[0m\u001b[0;34m(\u001b[0m\u001b[0mdocs\u001b[0m\u001b[0;34m,\u001b[0m \u001b[0msgd\u001b[0m\u001b[0;34m=\u001b[0m\u001b[0msgd\u001b[0m\u001b[0;34m)\u001b[0m\u001b[0;34m\u001b[0m\u001b[0;34m\u001b[0m\u001b[0m\n\u001b[0m\u001b[1;32m    111\u001b[0m \u001b[0;34m\u001b[0m\u001b[0m\n\u001b[1;32m    112\u001b[0m     \u001b[0;32mdef\u001b[0m \u001b[0mresume_training\u001b[0m\u001b[0;34m(\u001b[0m\u001b[0mself\u001b[0m\u001b[0;34m,\u001b[0m \u001b[0msgd\u001b[0m\u001b[0;34m=\u001b[0m\u001b[0;32mNone\u001b[0m\u001b[0;34m,\u001b[0m \u001b[0mcomponent_cfg\u001b[0m\u001b[0;34m=\u001b[0m\u001b[0;32mNone\u001b[0m\u001b[0;34m,\u001b[0m \u001b[0;34m**\u001b[0m\u001b[0mkwargs\u001b[0m\u001b[0;34m)\u001b[0m\u001b[0;34m:\u001b[0m\u001b[0;34m\u001b[0m\u001b[0;34m\u001b[0m\u001b[0m\n",
      "\u001b[0;32m~/src/oecd_financial_flows/venv_oecdflows/lib/python3.7/site-packages/spacy_transformers/pipeline/tok2vec.py\u001b[0m in \u001b[0;36mfinish_update\u001b[0;34m(docs, sgd)\u001b[0m\n\u001b[1;32m    144\u001b[0m                 \u001b[0mRaggedArray\u001b[0m\u001b[0;34m(\u001b[0m\u001b[0mxp\u001b[0m\u001b[0;34m.\u001b[0m\u001b[0mvstack\u001b[0m\u001b[0;34m(\u001b[0m\u001b[0md_po\u001b[0m\u001b[0;34m)\u001b[0m\u001b[0;34m,\u001b[0m \u001b[0mpo_lengths\u001b[0m\u001b[0;34m)\u001b[0m\u001b[0;34m,\u001b[0m\u001b[0;34m\u001b[0m\u001b[0;34m\u001b[0m\u001b[0m\n\u001b[1;32m    145\u001b[0m             )\n\u001b[0;32m--> 146\u001b[0;31m             \u001b[0mbackprop\u001b[0m\u001b[0;34m(\u001b[0m\u001b[0mgradients\u001b[0m\u001b[0;34m,\u001b[0m \u001b[0msgd\u001b[0m\u001b[0;34m=\u001b[0m\u001b[0msgd\u001b[0m\u001b[0;34m)\u001b[0m\u001b[0;34m\u001b[0m\u001b[0;34m\u001b[0m\u001b[0m\n\u001b[0m\u001b[1;32m    147\u001b[0m             \u001b[0;32mfor\u001b[0m \u001b[0mdoc\u001b[0m \u001b[0;32min\u001b[0m \u001b[0mdocs\u001b[0m\u001b[0;34m:\u001b[0m\u001b[0;34m\u001b[0m\u001b[0;34m\u001b[0m\u001b[0m\n\u001b[1;32m    148\u001b[0m                 \u001b[0mdoc\u001b[0m\u001b[0;34m.\u001b[0m\u001b[0m_\u001b[0m\u001b[0;34m.\u001b[0m\u001b[0mget\u001b[0m\u001b[0;34m(\u001b[0m\u001b[0mATTRS\u001b[0m\u001b[0;34m.\u001b[0m\u001b[0md_last_hidden_state\u001b[0m\u001b[0;34m)\u001b[0m\u001b[0;34m.\u001b[0m\u001b[0mfill\u001b[0m\u001b[0;34m(\u001b[0m\u001b[0;36m0\u001b[0m\u001b[0;34m)\u001b[0m\u001b[0;34m\u001b[0m\u001b[0;34m\u001b[0m\u001b[0m\n",
      "\u001b[0;32m~/src/oecd_financial_flows/venv_oecdflows/lib/python3.7/site-packages/spacy_transformers/model_registry.py\u001b[0m in \u001b[0;36msentence_bwd\u001b[0;34m(d_acts, sgd)\u001b[0m\n\u001b[1;32m    420\u001b[0m             \u001b[0md_acts\u001b[0m\u001b[0;34m.\u001b[0m\u001b[0mlh\u001b[0m\u001b[0;34m.\u001b[0m\u001b[0mlengths\u001b[0m \u001b[0;34m=\u001b[0m \u001b[0mwords_per_sent\u001b[0m\u001b[0;34m\u001b[0m\u001b[0;34m\u001b[0m\u001b[0m\n\u001b[1;32m    421\u001b[0m             \u001b[0md_acts\u001b[0m\u001b[0;34m.\u001b[0m\u001b[0mpo\u001b[0m\u001b[0;34m.\u001b[0m\u001b[0mlengths\u001b[0m \u001b[0;34m=\u001b[0m \u001b[0;34m[\u001b[0m\u001b[0;36m1\u001b[0m \u001b[0;32mfor\u001b[0m \u001b[0m_\u001b[0m \u001b[0;32min\u001b[0m \u001b[0mwords_per_sent\u001b[0m\u001b[0;34m]\u001b[0m\u001b[0;34m\u001b[0m\u001b[0;34m\u001b[0m\u001b[0m\n\u001b[0;32m--> 422\u001b[0;31m             \u001b[0md_ids\u001b[0m \u001b[0;34m=\u001b[0m \u001b[0mbp_acts\u001b[0m\u001b[0;34m(\u001b[0m\u001b[0md_acts\u001b[0m\u001b[0;34m,\u001b[0m \u001b[0msgd\u001b[0m\u001b[0;34m=\u001b[0m\u001b[0msgd\u001b[0m\u001b[0;34m)\u001b[0m\u001b[0;34m\u001b[0m\u001b[0;34m\u001b[0m\u001b[0m\n\u001b[0m\u001b[1;32m    423\u001b[0m             \u001b[0;32mif\u001b[0m \u001b[0;32mnot\u001b[0m \u001b[0;34m(\u001b[0m\u001b[0md_ids\u001b[0m \u001b[0;32mis\u001b[0m \u001b[0;32mNone\u001b[0m \u001b[0;32mor\u001b[0m \u001b[0mall\u001b[0m\u001b[0;34m(\u001b[0m\u001b[0mds\u001b[0m \u001b[0;32mis\u001b[0m \u001b[0;32mNone\u001b[0m \u001b[0;32mfor\u001b[0m \u001b[0mds\u001b[0m \u001b[0;32min\u001b[0m \u001b[0md_ids\u001b[0m\u001b[0;34m)\u001b[0m\u001b[0;34m)\u001b[0m\u001b[0;34m:\u001b[0m\u001b[0;34m\u001b[0m\u001b[0;34m\u001b[0m\u001b[0m\n\u001b[1;32m    424\u001b[0m                 \u001b[0;32mraise\u001b[0m \u001b[0mValueError\u001b[0m\u001b[0;34m(\u001b[0m\u001b[0;34m\"Expected gradient of sentence to be None\"\u001b[0m\u001b[0;34m)\u001b[0m\u001b[0;34m\u001b[0m\u001b[0;34m\u001b[0m\u001b[0m\n",
      "\u001b[0;32m~/src/oecd_financial_flows/venv_oecdflows/lib/python3.7/site-packages/thinc/neural/_classes/feed_forward.py\u001b[0m in \u001b[0;36mcontinue_update\u001b[0;34m(gradient, sgd)\u001b[0m\n\u001b[1;32m     51\u001b[0m                 \u001b[0;32mif\u001b[0m \u001b[0mgradient\u001b[0m \u001b[0;32mis\u001b[0m \u001b[0;32mNone\u001b[0m \u001b[0;32mor\u001b[0m \u001b[0mcallback\u001b[0m \u001b[0;32mis\u001b[0m \u001b[0;32mNone\u001b[0m\u001b[0;34m:\u001b[0m\u001b[0;34m\u001b[0m\u001b[0;34m\u001b[0m\u001b[0m\n\u001b[1;32m     52\u001b[0m                     \u001b[0;32mbreak\u001b[0m\u001b[0;34m\u001b[0m\u001b[0;34m\u001b[0m\u001b[0m\n\u001b[0;32m---> 53\u001b[0;31m                 \u001b[0mgradient\u001b[0m \u001b[0;34m=\u001b[0m \u001b[0mcallback\u001b[0m\u001b[0;34m(\u001b[0m\u001b[0mgradient\u001b[0m\u001b[0;34m,\u001b[0m \u001b[0msgd\u001b[0m\u001b[0;34m)\u001b[0m\u001b[0;34m\u001b[0m\u001b[0;34m\u001b[0m\u001b[0m\n\u001b[0m\u001b[1;32m     54\u001b[0m             \u001b[0;32mreturn\u001b[0m \u001b[0mgradient\u001b[0m\u001b[0;34m\u001b[0m\u001b[0;34m\u001b[0m\u001b[0m\n\u001b[1;32m     55\u001b[0m \u001b[0;34m\u001b[0m\u001b[0m\n",
      "\u001b[0;32m~/src/oecd_financial_flows/venv_oecdflows/lib/python3.7/site-packages/spacy_transformers/model_registry.py\u001b[0m in \u001b[0;36mbackprop_batched\u001b[0;34m(d_outputs, sgd)\u001b[0m\n\u001b[1;32m    386\u001b[0m                     \u001b[0mpo_lengths\u001b[0m \u001b[0;34m=\u001b[0m \u001b[0;34m[\u001b[0m\u001b[0;34m]\u001b[0m\u001b[0;34m\u001b[0m\u001b[0;34m\u001b[0m\u001b[0m\n\u001b[1;32m    387\u001b[0m                 \u001b[0mdY\u001b[0m \u001b[0;34m=\u001b[0m \u001b[0mActs\u001b[0m\u001b[0;34m(\u001b[0m\u001b[0mRaggedArray\u001b[0m\u001b[0;34m(\u001b[0m\u001b[0md_lh\u001b[0m\u001b[0;34m,\u001b[0m \u001b[0mlh_lengths\u001b[0m\u001b[0;34m)\u001b[0m\u001b[0;34m,\u001b[0m \u001b[0mRaggedArray\u001b[0m\u001b[0;34m(\u001b[0m\u001b[0md_po\u001b[0m\u001b[0;34m,\u001b[0m \u001b[0mpo_lengths\u001b[0m\u001b[0;34m)\u001b[0m\u001b[0;34m)\u001b[0m\u001b[0;34m\u001b[0m\u001b[0;34m\u001b[0m\u001b[0m\n\u001b[0;32m--> 388\u001b[0;31m                 \u001b[0mdX\u001b[0m \u001b[0;34m=\u001b[0m \u001b[0mget_dX\u001b[0m\u001b[0;34m(\u001b[0m\u001b[0mdY\u001b[0m\u001b[0;34m,\u001b[0m \u001b[0msgd\u001b[0m\u001b[0;34m=\u001b[0m\u001b[0msgd\u001b[0m\u001b[0;34m)\u001b[0m\u001b[0;34m\u001b[0m\u001b[0;34m\u001b[0m\u001b[0m\n\u001b[0m\u001b[1;32m    389\u001b[0m                 \u001b[0;32massert\u001b[0m \u001b[0mdX\u001b[0m \u001b[0;32mis\u001b[0m \u001b[0;32mNone\u001b[0m\u001b[0;34m\u001b[0m\u001b[0;34m\u001b[0m\u001b[0m\n\u001b[1;32m    390\u001b[0m             \u001b[0;32mreturn\u001b[0m \u001b[0;32mNone\u001b[0m\u001b[0;34m\u001b[0m\u001b[0;34m\u001b[0m\u001b[0m\n",
      "\u001b[0;32m~/src/oecd_financial_flows/venv_oecdflows/lib/python3.7/site-packages/spacy_transformers/wrapper.py\u001b[0m in \u001b[0;36mbackward_pytorch\u001b[0;34m(d_output, sgd)\u001b[0m\n\u001b[1;32m    120\u001b[0m                 \u001b[0my_for_bwd\u001b[0m\u001b[0;34m.\u001b[0m\u001b[0mappend\u001b[0m\u001b[0;34m(\u001b[0m\u001b[0my_var\u001b[0m\u001b[0;34m[\u001b[0m\u001b[0;36m1\u001b[0m\u001b[0;34m]\u001b[0m\u001b[0;34m)\u001b[0m\u001b[0;34m\u001b[0m\u001b[0;34m\u001b[0m\u001b[0m\n\u001b[1;32m    121\u001b[0m             \u001b[0;32mif\u001b[0m \u001b[0mFINE_TUNE\u001b[0m\u001b[0;34m:\u001b[0m\u001b[0;34m\u001b[0m\u001b[0;34m\u001b[0m\u001b[0m\n\u001b[0;32m--> 122\u001b[0;31m                 \u001b[0mtorch\u001b[0m\u001b[0;34m.\u001b[0m\u001b[0mautograd\u001b[0m\u001b[0;34m.\u001b[0m\u001b[0mbackward\u001b[0m\u001b[0;34m(\u001b[0m\u001b[0my_for_bwd\u001b[0m\u001b[0;34m,\u001b[0m \u001b[0mgrad_tensors\u001b[0m\u001b[0;34m=\u001b[0m\u001b[0mdy_for_bwd\u001b[0m\u001b[0;34m)\u001b[0m\u001b[0;34m\u001b[0m\u001b[0;34m\u001b[0m\u001b[0m\n\u001b[0m\u001b[1;32m    123\u001b[0m                 \u001b[0;32mif\u001b[0m \u001b[0msgd\u001b[0m \u001b[0;32mis\u001b[0m \u001b[0;32mnot\u001b[0m \u001b[0;32mNone\u001b[0m\u001b[0;34m:\u001b[0m\u001b[0;34m\u001b[0m\u001b[0;34m\u001b[0m\u001b[0m\n\u001b[1;32m    124\u001b[0m                     \u001b[0;32mif\u001b[0m \u001b[0mself\u001b[0m\u001b[0;34m.\u001b[0m\u001b[0m_optimizer\u001b[0m \u001b[0;32mis\u001b[0m \u001b[0;32mNone\u001b[0m\u001b[0;34m:\u001b[0m\u001b[0;34m\u001b[0m\u001b[0;34m\u001b[0m\u001b[0m\n",
      "\u001b[0;32m~/src/oecd_financial_flows/venv_oecdflows/lib/python3.7/site-packages/torch/autograd/__init__.py\u001b[0m in \u001b[0;36mbackward\u001b[0;34m(tensors, grad_tensors, retain_graph, create_graph, grad_variables)\u001b[0m\n\u001b[1;32m     92\u001b[0m         \u001b[0mgrad_tensors\u001b[0m \u001b[0;34m=\u001b[0m \u001b[0mlist\u001b[0m\u001b[0;34m(\u001b[0m\u001b[0mgrad_tensors\u001b[0m\u001b[0;34m)\u001b[0m\u001b[0;34m\u001b[0m\u001b[0;34m\u001b[0m\u001b[0m\n\u001b[1;32m     93\u001b[0m \u001b[0;34m\u001b[0m\u001b[0m\n\u001b[0;32m---> 94\u001b[0;31m     \u001b[0mgrad_tensors\u001b[0m \u001b[0;34m=\u001b[0m \u001b[0m_make_grads\u001b[0m\u001b[0;34m(\u001b[0m\u001b[0mtensors\u001b[0m\u001b[0;34m,\u001b[0m \u001b[0mgrad_tensors\u001b[0m\u001b[0;34m)\u001b[0m\u001b[0;34m\u001b[0m\u001b[0;34m\u001b[0m\u001b[0m\n\u001b[0m\u001b[1;32m     95\u001b[0m     \u001b[0;32mif\u001b[0m \u001b[0mretain_graph\u001b[0m \u001b[0;32mis\u001b[0m \u001b[0;32mNone\u001b[0m\u001b[0;34m:\u001b[0m\u001b[0;34m\u001b[0m\u001b[0;34m\u001b[0m\u001b[0m\n\u001b[1;32m     96\u001b[0m         \u001b[0mretain_graph\u001b[0m \u001b[0;34m=\u001b[0m \u001b[0mcreate_graph\u001b[0m\u001b[0;34m\u001b[0m\u001b[0;34m\u001b[0m\u001b[0m\n",
      "\u001b[0;32m~/src/oecd_financial_flows/venv_oecdflows/lib/python3.7/site-packages/torch/autograd/__init__.py\u001b[0m in \u001b[0;36m_make_grads\u001b[0;34m(outputs, grads)\u001b[0m\n\u001b[1;32m     28\u001b[0m                                    \u001b[0;34m+\u001b[0m \u001b[0mstr\u001b[0m\u001b[0;34m(\u001b[0m\u001b[0mgrad\u001b[0m\u001b[0;34m.\u001b[0m\u001b[0mshape\u001b[0m\u001b[0;34m)\u001b[0m \u001b[0;34m+\u001b[0m \u001b[0;34m\" and output[\"\u001b[0m\u001b[0;34m\u001b[0m\u001b[0;34m\u001b[0m\u001b[0m\n\u001b[1;32m     29\u001b[0m                                    \u001b[0;34m+\u001b[0m \u001b[0mstr\u001b[0m\u001b[0;34m(\u001b[0m\u001b[0moutputs\u001b[0m\u001b[0;34m.\u001b[0m\u001b[0mindex\u001b[0m\u001b[0;34m(\u001b[0m\u001b[0mout\u001b[0m\u001b[0;34m)\u001b[0m\u001b[0;34m)\u001b[0m \u001b[0;34m+\u001b[0m \u001b[0;34m\"] has a shape of \"\u001b[0m\u001b[0;34m\u001b[0m\u001b[0;34m\u001b[0m\u001b[0m\n\u001b[0;32m---> 30\u001b[0;31m                                    + str(out.shape) + \".\")\n\u001b[0m\u001b[1;32m     31\u001b[0m             \u001b[0mnew_grads\u001b[0m\u001b[0;34m.\u001b[0m\u001b[0mappend\u001b[0m\u001b[0;34m(\u001b[0m\u001b[0mgrad\u001b[0m\u001b[0;34m)\u001b[0m\u001b[0;34m\u001b[0m\u001b[0;34m\u001b[0m\u001b[0m\n\u001b[1;32m     32\u001b[0m         \u001b[0;32melif\u001b[0m \u001b[0mgrad\u001b[0m \u001b[0;32mis\u001b[0m \u001b[0;32mNone\u001b[0m\u001b[0;34m:\u001b[0m\u001b[0;34m\u001b[0m\u001b[0;34m\u001b[0m\u001b[0m\n",
      "\u001b[0;31mRuntimeError\u001b[0m: Mismatch in shape: grad_output[0] has a shape of torch.Size([1, 128, 768]) and output[0] has a shape of torch.Size([1, 129, 768])."
     ]
    }
   ],
   "source": [
    "# Initialize the TextCategorizer, and create an optimizer.\n",
    "optimizer = nlp.resume_training()\n",
    "optimizer.alpha = 0.001\n",
    "optimizer.trf_weight_decay = 0.005\n",
    "optimizer.L2 = 0.0\n",
    "learn_rates = cyclic_triangular_rate(\n",
    "    learn_rate / 3, learn_rate * 3, 2 * len(train_data) // batch_size\n",
    "    )\n",
    "print(\"Training the model...\")\n",
    "print(\"{:^5}\\t{:^5}\\t{:^5}\\t{:^5}\".format(\"LOSS\", \"P\", \"R\", \"F\"))\n",
    "\n",
    "pbar = tqdm(total=100, leave=False)\n",
    "results = []\n",
    "epoch = 0\n",
    "step = 0\n",
    "eval_every = 100\n",
    "patience = 3\n",
    "while True:\n",
    "    # Train and evaluate\n",
    "    losses = Counter()\n",
    "    random.shuffle(train_data)\n",
    "    batches = minibatch(train_data, size=batch_size)\n",
    "    for batch in batches:\n",
    "        optimizer.trf_lr = next(learn_rates)\n",
    "        texts, annotations = zip(*batch)\n",
    "        nlp.update(texts, annotations, sgd=optimizer, drop=0.1, losses=losses)\n",
    "        pbar.update(1)\n",
    "        if step and (step % eval_every) == 0:\n",
    "            pbar.close()\n",
    "            with nlp.use_params(optimizer.averages):\n",
    "                scores = evaluate(nlp, eval_texts, eval_cats, pos_label)\n",
    "            results.append((scores[\"textcat_f\"], step, epoch))\n",
    "            print(\n",
    "                \"{0:.3f}\\t{1:.3f}\\t{2:.3f}\\t{3:.3f}\".format(\n",
    "                    losses[\"trf_textcat\"],\n",
    "                    scores[\"textcat_p\"],\n",
    "                    scores[\"textcat_r\"],\n",
    "                    scores[\"textcat_f\"],\n",
    "                )\n",
    "            )\n",
    "            pbar = tqdm(total=eval_every, leave=False)\n",
    "        step += 1\n",
    "    epoch += 1\n",
    "    print(f\"epoch {epoch}\")\n",
    "    # Stop if no improvement in HP.patience checkpoints\n",
    "    if results:\n",
    "        best_score, best_step, best_epoch = max(results)\n",
    "        print(f\"best score: {best_score}  best_step : {best_step}  best epoch : {best_epoch} \")\n",
    "        print(f\"break clause: {((step - best_step) // eval_every)}\")\n",
    "        if ((step - best_step) // eval_every) >= patience:\n",
    "            break\n",
    "\n",
    "    msg = wasabi.Printer()\n",
    "    table_widths = [2, 4, 6]\n",
    "    msg.info(f\"Best scoring checkpoints\")\n",
    "    msg.row([\"Epoch\", \"Step\", \"Score\"], widths=table_widths)\n",
    "    msg.row([\"-\" * width for width in table_widths])\n",
    "    for score, step, epoch in sorted(results, reverse=True)[:10]:\n",
    "        msg.row([epoch, step, \"%.2f\" % (score * 100)], widths=table_widths)\n",
    "\n",
    "    # Test the trained model\n",
    "    test_text = eval_texts[0]\n",
    "    doc = nlp(test_text)\n",
    "    print(test_text, doc.cats)"
   ]
  },
  {
   "cell_type": "markdown",
   "metadata": {
    "colab_type": "text",
    "id": "u3Qx2iVznLB-"
   },
   "source": [
    "# More information & Sources"
   ]
  },
  {
   "cell_type": "markdown",
   "metadata": {
    "colab_type": "text",
    "id": "yOcKO7T-TWLY"
   },
   "source": [
    "**Sources & More information:**  \n",
    "*XL-Net explanation*  \n",
    "https://mlexplained.com/2019/06/30/paper-dissected-xlnet-generalized-autoregressive-pretraining-for-language-understanding-explained/  \n",
    "Attention is all you need  \n",
    "https://arxiv.org/abs/1706.03762"
   ]
  }
 ],
 "metadata": {
  "accelerator": "GPU",
  "colab": {
   "collapsed_sections": [],
   "name": "Spacy Transformers Demo",
   "provenance": [],
   "toc_visible": true,
   "version": "0.3.2"
  },
  "kernelspec": {
   "display_name": "venv_oecdflows",
   "language": "python",
   "name": "venv_oecdflows"
  },
  "language_info": {
   "codemirror_mode": {
    "name": "ipython",
    "version": 3
   },
   "file_extension": ".py",
   "mimetype": "text/x-python",
   "name": "python",
   "nbconvert_exporter": "python",
   "pygments_lexer": "ipython3",
   "version": "3.7.3"
  }
 },
 "nbformat": 4,
 "nbformat_minor": 1
}
